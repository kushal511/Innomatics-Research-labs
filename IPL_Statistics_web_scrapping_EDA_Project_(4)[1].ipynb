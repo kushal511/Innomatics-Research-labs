{
 "cells": [
  {
   "cell_type": "markdown",
   "metadata": {},
   "source": [
    "# Web scrapping"
   ]
  },
  {
   "cell_type": "code",
   "execution_count": 1,
   "metadata": {},
   "outputs": [],
   "source": [
    "import requests\n",
    "from bs4 import BeautifulSoup\n",
    "import pandas as pd\n",
    "import numpy as np\n",
    "import matplotlib.pyplot as plt\n",
    "%matplotlib inline\n",
    "import seaborn as sns"
   ]
  },
  {
   "cell_type": "code",
   "execution_count": 2,
   "metadata": {},
   "outputs": [],
   "source": [
    "def ipl_scraping(year):\n",
    "    page=requests.get(\"https://www.iplt20.com/stats/{}\".format(year))\n",
    "    content=page.content\n",
    "    soup=BeautifulSoup(content,'html.parser')\n",
    "    cols = []\n",
    "    for i in soup.find_all('th'):\n",
    "        cols.append(i.text)\n",
    "    cols=cols[1:14]\n",
    "    td = []\n",
    "    for i in soup.find_all('td'):\n",
    "        td.append(i.text)\n",
    "    name = []\n",
    "    mat = []\n",
    "    inns = []\n",
    "    no=[]\n",
    "    runs=[]\n",
    "    hs=[]\n",
    "    avg=[]\n",
    "    bf=[]\n",
    "    sr=[]\n",
    "    hunderd=[]\n",
    "    fifty=[]\n",
    "    fours=[]\n",
    "    sixes=[]\n",
    "    season = []\n",
    "\n",
    "    for val in td[1::14]:\n",
    "        name.append(val)\n",
    "        season.append(year)\n",
    "    for val in td[2::14]:\n",
    "        mat.append(val)\n",
    "    for val in td[3::14]:\n",
    "        inns.append(val)\n",
    "    for val in td[4::14]:\n",
    "        no.append(val)\n",
    "    for val in td[5::14]:\n",
    "        runs.append(val)\n",
    "    for val in td[6::14]:\n",
    "        hs.append(val)\n",
    "    for val in td[7::14]:\n",
    "        avg.append(val)\n",
    "    for val in td[8::14]:\n",
    "        bf.append(val)\n",
    "    for val in td[9::14]:\n",
    "        sr.append(val)\n",
    "    for val in td[10::14]:\n",
    "        hunderd.append(val)\n",
    "    for val in td[11::14]:\n",
    "        fifty.append(val)\n",
    "    for val in td[12::14]:\n",
    "        fours.append(val)\n",
    "    for val in td[13::14]:\n",
    "        sixes.append(val)\n",
    "    d={'Player':name[:129],\n",
    "      'matches':mat[:129],\n",
    "      'innings':inns[:129],\n",
    "      'No':no[:129],\n",
    "      'Runs':runs[:129],\n",
    "      'HS':hs[:129],\n",
    "      'Average':avg[:129],\n",
    "      'BF':bf[:129],\n",
    "      'SR':sr[:129],\n",
    "      '100':hunderd[:129],\n",
    "      '50':fifty[:129],\n",
    "      '4':fours[:129],\n",
    "      '6':sixes[:129],\n",
    "    'season':season[:129]}\n",
    "    return pd.DataFrame(d)\n",
    "    \n"
   ]
  },
  {
   "cell_type": "code",
   "execution_count": 3,
   "metadata": {},
   "outputs": [],
   "source": [
    "df_2008 = ipl_scraping(2008)\n",
    "df_2009 = ipl_scraping(2009)\n",
    "df_2010 =ipl_scraping(2010)\n",
    "df_2011 = ipl_scraping(2011)\n",
    "df_2012 = ipl_scraping(2012)\n",
    "df_2013 = ipl_scraping(2013)\n",
    "df_2014 = ipl_scraping(2014)\n",
    "df_2015 = ipl_scraping(2015)\n",
    "df_2016 = ipl_scraping(2016)\n",
    "df_2017 = ipl_scraping(2017)\n",
    "df_2018 = ipl_scraping(2018)\n",
    "df_2019 = ipl_scraping(2019)\n",
    "df_2020 = ipl_scraping(2020)\n",
    "df_2021 = ipl_scraping(2021)\n"
   ]
  },
  {
   "cell_type": "code",
   "execution_count": 4,
   "metadata": {},
   "outputs": [],
   "source": [
    "df_final = pd.concat([df_2008,df_2009,df_2010,df_2011,df_2012,df_2013,df_2014,df_2015,df_2016,df_2017,df_2019,df_2020,df_2021])"
   ]
  },
  {
   "cell_type": "code",
   "execution_count": 5,
   "metadata": {},
   "outputs": [],
   "source": [
    "df_final.to_csv('ipldata_before_cleaning.csv')"
   ]
  },
  {
   "cell_type": "code",
   "execution_count": 6,
   "metadata": {},
   "outputs": [],
   "source": [
    "df_final = pd.read_csv('ipldata_before_cleaning.csv')"
   ]
  },
  {
   "cell_type": "code",
   "execution_count": 7,
   "metadata": {},
   "outputs": [],
   "source": [
    "df_final['Player']=df_final['Player'].apply(lambda x:x.replace('\\n',''))"
   ]
  },
  {
   "cell_type": "code",
   "execution_count": 8,
   "metadata": {},
   "outputs": [
    {
     "data": {
      "text/html": [
       "<div>\n",
       "<style scoped>\n",
       "    .dataframe tbody tr th:only-of-type {\n",
       "        vertical-align: middle;\n",
       "    }\n",
       "\n",
       "    .dataframe tbody tr th {\n",
       "        vertical-align: top;\n",
       "    }\n",
       "\n",
       "    .dataframe thead th {\n",
       "        text-align: right;\n",
       "    }\n",
       "</style>\n",
       "<table border=\"1\" class=\"dataframe\">\n",
       "  <thead>\n",
       "    <tr style=\"text-align: right;\">\n",
       "      <th></th>\n",
       "      <th>Unnamed: 0</th>\n",
       "      <th>Player</th>\n",
       "      <th>matches</th>\n",
       "      <th>innings</th>\n",
       "      <th>No</th>\n",
       "      <th>Runs</th>\n",
       "      <th>HS</th>\n",
       "      <th>Average</th>\n",
       "      <th>BF</th>\n",
       "      <th>SR</th>\n",
       "      <th>100</th>\n",
       "      <th>50</th>\n",
       "      <th>4</th>\n",
       "      <th>6</th>\n",
       "      <th>season</th>\n",
       "    </tr>\n",
       "  </thead>\n",
       "  <tbody>\n",
       "    <tr>\n",
       "      <th>0</th>\n",
       "      <td>0</td>\n",
       "      <td>Shaun Marsh</td>\n",
       "      <td>11</td>\n",
       "      <td>11</td>\n",
       "      <td>2</td>\n",
       "      <td>616</td>\n",
       "      <td>115</td>\n",
       "      <td>68.44</td>\n",
       "      <td>441</td>\n",
       "      <td>139.68</td>\n",
       "      <td>1</td>\n",
       "      <td>5</td>\n",
       "      <td>59</td>\n",
       "      <td>26</td>\n",
       "      <td>2008</td>\n",
       "    </tr>\n",
       "    <tr>\n",
       "      <th>1</th>\n",
       "      <td>1</td>\n",
       "      <td>Gautam Gambhir</td>\n",
       "      <td>14</td>\n",
       "      <td>14</td>\n",
       "      <td>1</td>\n",
       "      <td>534</td>\n",
       "      <td>86</td>\n",
       "      <td>41.07</td>\n",
       "      <td>379</td>\n",
       "      <td>140.89</td>\n",
       "      <td>0</td>\n",
       "      <td>5</td>\n",
       "      <td>68</td>\n",
       "      <td>8</td>\n",
       "      <td>2008</td>\n",
       "    </tr>\n",
       "    <tr>\n",
       "      <th>2</th>\n",
       "      <td>2</td>\n",
       "      <td>Sanath Jayasuriya</td>\n",
       "      <td>14</td>\n",
       "      <td>14</td>\n",
       "      <td>2</td>\n",
       "      <td>518</td>\n",
       "      <td>114*</td>\n",
       "      <td>43.16</td>\n",
       "      <td>309</td>\n",
       "      <td>167.63</td>\n",
       "      <td>1</td>\n",
       "      <td>2</td>\n",
       "      <td>58</td>\n",
       "      <td>31</td>\n",
       "      <td>2008</td>\n",
       "    </tr>\n",
       "    <tr>\n",
       "      <th>3</th>\n",
       "      <td>3</td>\n",
       "      <td>Shane Watson</td>\n",
       "      <td>15</td>\n",
       "      <td>15</td>\n",
       "      <td>5</td>\n",
       "      <td>472</td>\n",
       "      <td>76*</td>\n",
       "      <td>47.20</td>\n",
       "      <td>311</td>\n",
       "      <td>151.76</td>\n",
       "      <td>0</td>\n",
       "      <td>4</td>\n",
       "      <td>47</td>\n",
       "      <td>19</td>\n",
       "      <td>2008</td>\n",
       "    </tr>\n",
       "    <tr>\n",
       "      <th>4</th>\n",
       "      <td>4</td>\n",
       "      <td>Graeme Smith</td>\n",
       "      <td>11</td>\n",
       "      <td>11</td>\n",
       "      <td>2</td>\n",
       "      <td>441</td>\n",
       "      <td>91</td>\n",
       "      <td>49.00</td>\n",
       "      <td>362</td>\n",
       "      <td>121.82</td>\n",
       "      <td>0</td>\n",
       "      <td>3</td>\n",
       "      <td>54</td>\n",
       "      <td>8</td>\n",
       "      <td>2008</td>\n",
       "    </tr>\n",
       "    <tr>\n",
       "      <th>...</th>\n",
       "      <td>...</td>\n",
       "      <td>...</td>\n",
       "      <td>...</td>\n",
       "      <td>...</td>\n",
       "      <td>...</td>\n",
       "      <td>...</td>\n",
       "      <td>...</td>\n",
       "      <td>...</td>\n",
       "      <td>...</td>\n",
       "      <td>...</td>\n",
       "      <td>...</td>\n",
       "      <td>...</td>\n",
       "      <td>...</td>\n",
       "      <td>...</td>\n",
       "      <td>...</td>\n",
       "    </tr>\n",
       "    <tr>\n",
       "      <th>1672</th>\n",
       "      <td>124</td>\n",
       "      <td>Tim Southee</td>\n",
       "      <td>3</td>\n",
       "      <td>1</td>\n",
       "      <td>0</td>\n",
       "      <td>3</td>\n",
       "      <td>3</td>\n",
       "      <td>3.00</td>\n",
       "      <td>5</td>\n",
       "      <td>60.00</td>\n",
       "      <td>0</td>\n",
       "      <td>0</td>\n",
       "      <td>0</td>\n",
       "      <td>0</td>\n",
       "      <td>2021</td>\n",
       "    </tr>\n",
       "    <tr>\n",
       "      <th>1673</th>\n",
       "      <td>125</td>\n",
       "      <td>Navdeep Saini</td>\n",
       "      <td>2</td>\n",
       "      <td>1</td>\n",
       "      <td>0</td>\n",
       "      <td>2</td>\n",
       "      <td>2</td>\n",
       "      <td>2.00</td>\n",
       "      <td>4</td>\n",
       "      <td>50.00</td>\n",
       "      <td>0</td>\n",
       "      <td>0</td>\n",
       "      <td>0</td>\n",
       "      <td>0</td>\n",
       "      <td>2021</td>\n",
       "    </tr>\n",
       "    <tr>\n",
       "      <th>1674</th>\n",
       "      <td>126</td>\n",
       "      <td>Tabraiz Shamsi</td>\n",
       "      <td>1</td>\n",
       "      <td>1</td>\n",
       "      <td>1</td>\n",
       "      <td>2</td>\n",
       "      <td>2*</td>\n",
       "      <td>0.00</td>\n",
       "      <td>4</td>\n",
       "      <td>50.00</td>\n",
       "      <td>0</td>\n",
       "      <td>0</td>\n",
       "      <td>0</td>\n",
       "      <td>0</td>\n",
       "      <td>2021</td>\n",
       "    </tr>\n",
       "    <tr>\n",
       "      <th>1675</th>\n",
       "      <td>127</td>\n",
       "      <td>Kartik Tyagi</td>\n",
       "      <td>4</td>\n",
       "      <td>2</td>\n",
       "      <td>1</td>\n",
       "      <td>2</td>\n",
       "      <td>1*</td>\n",
       "      <td>2.00</td>\n",
       "      <td>4</td>\n",
       "      <td>50.00</td>\n",
       "      <td>0</td>\n",
       "      <td>0</td>\n",
       "      <td>0</td>\n",
       "      <td>0</td>\n",
       "      <td>2021</td>\n",
       "    </tr>\n",
       "    <tr>\n",
       "      <th>1676</th>\n",
       "      <td>128</td>\n",
       "      <td>Tim Seifert</td>\n",
       "      <td>1</td>\n",
       "      <td>1</td>\n",
       "      <td>0</td>\n",
       "      <td>2</td>\n",
       "      <td>2</td>\n",
       "      <td>2.00</td>\n",
       "      <td>4</td>\n",
       "      <td>50.00</td>\n",
       "      <td>0</td>\n",
       "      <td>0</td>\n",
       "      <td>0</td>\n",
       "      <td>0</td>\n",
       "      <td>2021</td>\n",
       "    </tr>\n",
       "  </tbody>\n",
       "</table>\n",
       "<p>1677 rows × 15 columns</p>\n",
       "</div>"
      ],
      "text/plain": [
       "      Unnamed: 0             Player  matches  innings  No  Runs    HS  \\\n",
       "0              0        Shaun Marsh       11       11   2   616   115   \n",
       "1              1     Gautam Gambhir       14       14   1   534    86   \n",
       "2              2  Sanath Jayasuriya       14       14   2   518  114*   \n",
       "3              3       Shane Watson       15       15   5   472   76*   \n",
       "4              4       Graeme Smith       11       11   2   441    91   \n",
       "...          ...                ...      ...      ...  ..   ...   ...   \n",
       "1672         124        Tim Southee        3        1   0     3     3   \n",
       "1673         125      Navdeep Saini        2        1   0     2     2   \n",
       "1674         126     Tabraiz Shamsi        1        1   1     2    2*   \n",
       "1675         127       Kartik Tyagi        4        2   1     2    1*   \n",
       "1676         128        Tim Seifert        1        1   0     2     2   \n",
       "\n",
       "      Average   BF      SR  100  50   4   6  season  \n",
       "0       68.44  441  139.68    1   5  59  26    2008  \n",
       "1       41.07  379  140.89    0   5  68   8    2008  \n",
       "2       43.16  309  167.63    1   2  58  31    2008  \n",
       "3       47.20  311  151.76    0   4  47  19    2008  \n",
       "4       49.00  362  121.82    0   3  54   8    2008  \n",
       "...       ...  ...     ...  ...  ..  ..  ..     ...  \n",
       "1672     3.00    5   60.00    0   0   0   0    2021  \n",
       "1673     2.00    4   50.00    0   0   0   0    2021  \n",
       "1674     0.00    4   50.00    0   0   0   0    2021  \n",
       "1675     2.00    4   50.00    0   0   0   0    2021  \n",
       "1676     2.00    4   50.00    0   0   0   0    2021  \n",
       "\n",
       "[1677 rows x 15 columns]"
      ]
     },
     "execution_count": 8,
     "metadata": {},
     "output_type": "execute_result"
    }
   ],
   "source": [
    "df_final"
   ]
  },
  {
   "cell_type": "code",
   "execution_count": 9,
   "metadata": {},
   "outputs": [
    {
     "data": {
      "text/html": [
       "<div>\n",
       "<style scoped>\n",
       "    .dataframe tbody tr th:only-of-type {\n",
       "        vertical-align: middle;\n",
       "    }\n",
       "\n",
       "    .dataframe tbody tr th {\n",
       "        vertical-align: top;\n",
       "    }\n",
       "\n",
       "    .dataframe thead th {\n",
       "        text-align: right;\n",
       "    }\n",
       "</style>\n",
       "<table border=\"1\" class=\"dataframe\">\n",
       "  <thead>\n",
       "    <tr style=\"text-align: right;\">\n",
       "      <th></th>\n",
       "      <th>Player</th>\n",
       "      <th>matches</th>\n",
       "      <th>innings</th>\n",
       "      <th>No</th>\n",
       "      <th>Runs</th>\n",
       "      <th>HS</th>\n",
       "      <th>Average</th>\n",
       "      <th>BF</th>\n",
       "      <th>SR</th>\n",
       "      <th>100</th>\n",
       "      <th>50</th>\n",
       "      <th>4</th>\n",
       "      <th>6</th>\n",
       "      <th>season</th>\n",
       "    </tr>\n",
       "  </thead>\n",
       "  <tbody>\n",
       "    <tr>\n",
       "      <th>0</th>\n",
       "      <td>Shaun Marsh</td>\n",
       "      <td>11</td>\n",
       "      <td>11</td>\n",
       "      <td>2</td>\n",
       "      <td>616</td>\n",
       "      <td>115</td>\n",
       "      <td>68.44</td>\n",
       "      <td>441</td>\n",
       "      <td>139.68</td>\n",
       "      <td>1</td>\n",
       "      <td>5</td>\n",
       "      <td>59</td>\n",
       "      <td>26</td>\n",
       "      <td>2008</td>\n",
       "    </tr>\n",
       "    <tr>\n",
       "      <th>1</th>\n",
       "      <td>Gautam Gambhir</td>\n",
       "      <td>14</td>\n",
       "      <td>14</td>\n",
       "      <td>1</td>\n",
       "      <td>534</td>\n",
       "      <td>86</td>\n",
       "      <td>41.07</td>\n",
       "      <td>379</td>\n",
       "      <td>140.89</td>\n",
       "      <td>0</td>\n",
       "      <td>5</td>\n",
       "      <td>68</td>\n",
       "      <td>8</td>\n",
       "      <td>2008</td>\n",
       "    </tr>\n",
       "    <tr>\n",
       "      <th>2</th>\n",
       "      <td>Sanath Jayasuriya</td>\n",
       "      <td>14</td>\n",
       "      <td>14</td>\n",
       "      <td>2</td>\n",
       "      <td>518</td>\n",
       "      <td>114*</td>\n",
       "      <td>43.16</td>\n",
       "      <td>309</td>\n",
       "      <td>167.63</td>\n",
       "      <td>1</td>\n",
       "      <td>2</td>\n",
       "      <td>58</td>\n",
       "      <td>31</td>\n",
       "      <td>2008</td>\n",
       "    </tr>\n",
       "    <tr>\n",
       "      <th>3</th>\n",
       "      <td>Shane Watson</td>\n",
       "      <td>15</td>\n",
       "      <td>15</td>\n",
       "      <td>5</td>\n",
       "      <td>472</td>\n",
       "      <td>76*</td>\n",
       "      <td>47.20</td>\n",
       "      <td>311</td>\n",
       "      <td>151.76</td>\n",
       "      <td>0</td>\n",
       "      <td>4</td>\n",
       "      <td>47</td>\n",
       "      <td>19</td>\n",
       "      <td>2008</td>\n",
       "    </tr>\n",
       "    <tr>\n",
       "      <th>4</th>\n",
       "      <td>Graeme Smith</td>\n",
       "      <td>11</td>\n",
       "      <td>11</td>\n",
       "      <td>2</td>\n",
       "      <td>441</td>\n",
       "      <td>91</td>\n",
       "      <td>49.00</td>\n",
       "      <td>362</td>\n",
       "      <td>121.82</td>\n",
       "      <td>0</td>\n",
       "      <td>3</td>\n",
       "      <td>54</td>\n",
       "      <td>8</td>\n",
       "      <td>2008</td>\n",
       "    </tr>\n",
       "    <tr>\n",
       "      <th>...</th>\n",
       "      <td>...</td>\n",
       "      <td>...</td>\n",
       "      <td>...</td>\n",
       "      <td>...</td>\n",
       "      <td>...</td>\n",
       "      <td>...</td>\n",
       "      <td>...</td>\n",
       "      <td>...</td>\n",
       "      <td>...</td>\n",
       "      <td>...</td>\n",
       "      <td>...</td>\n",
       "      <td>...</td>\n",
       "      <td>...</td>\n",
       "      <td>...</td>\n",
       "    </tr>\n",
       "    <tr>\n",
       "      <th>1672</th>\n",
       "      <td>Tim Southee</td>\n",
       "      <td>3</td>\n",
       "      <td>1</td>\n",
       "      <td>0</td>\n",
       "      <td>3</td>\n",
       "      <td>3</td>\n",
       "      <td>3.00</td>\n",
       "      <td>5</td>\n",
       "      <td>60.00</td>\n",
       "      <td>0</td>\n",
       "      <td>0</td>\n",
       "      <td>0</td>\n",
       "      <td>0</td>\n",
       "      <td>2021</td>\n",
       "    </tr>\n",
       "    <tr>\n",
       "      <th>1673</th>\n",
       "      <td>Navdeep Saini</td>\n",
       "      <td>2</td>\n",
       "      <td>1</td>\n",
       "      <td>0</td>\n",
       "      <td>2</td>\n",
       "      <td>2</td>\n",
       "      <td>2.00</td>\n",
       "      <td>4</td>\n",
       "      <td>50.00</td>\n",
       "      <td>0</td>\n",
       "      <td>0</td>\n",
       "      <td>0</td>\n",
       "      <td>0</td>\n",
       "      <td>2021</td>\n",
       "    </tr>\n",
       "    <tr>\n",
       "      <th>1674</th>\n",
       "      <td>Tabraiz Shamsi</td>\n",
       "      <td>1</td>\n",
       "      <td>1</td>\n",
       "      <td>1</td>\n",
       "      <td>2</td>\n",
       "      <td>2*</td>\n",
       "      <td>0.00</td>\n",
       "      <td>4</td>\n",
       "      <td>50.00</td>\n",
       "      <td>0</td>\n",
       "      <td>0</td>\n",
       "      <td>0</td>\n",
       "      <td>0</td>\n",
       "      <td>2021</td>\n",
       "    </tr>\n",
       "    <tr>\n",
       "      <th>1675</th>\n",
       "      <td>Kartik Tyagi</td>\n",
       "      <td>4</td>\n",
       "      <td>2</td>\n",
       "      <td>1</td>\n",
       "      <td>2</td>\n",
       "      <td>1*</td>\n",
       "      <td>2.00</td>\n",
       "      <td>4</td>\n",
       "      <td>50.00</td>\n",
       "      <td>0</td>\n",
       "      <td>0</td>\n",
       "      <td>0</td>\n",
       "      <td>0</td>\n",
       "      <td>2021</td>\n",
       "    </tr>\n",
       "    <tr>\n",
       "      <th>1676</th>\n",
       "      <td>Tim Seifert</td>\n",
       "      <td>1</td>\n",
       "      <td>1</td>\n",
       "      <td>0</td>\n",
       "      <td>2</td>\n",
       "      <td>2</td>\n",
       "      <td>2.00</td>\n",
       "      <td>4</td>\n",
       "      <td>50.00</td>\n",
       "      <td>0</td>\n",
       "      <td>0</td>\n",
       "      <td>0</td>\n",
       "      <td>0</td>\n",
       "      <td>2021</td>\n",
       "    </tr>\n",
       "  </tbody>\n",
       "</table>\n",
       "<p>1677 rows × 14 columns</p>\n",
       "</div>"
      ],
      "text/plain": [
       "                 Player  matches  innings  No  Runs    HS  Average   BF  \\\n",
       "0           Shaun Marsh       11       11   2   616   115    68.44  441   \n",
       "1        Gautam Gambhir       14       14   1   534    86    41.07  379   \n",
       "2     Sanath Jayasuriya       14       14   2   518  114*    43.16  309   \n",
       "3          Shane Watson       15       15   5   472   76*    47.20  311   \n",
       "4          Graeme Smith       11       11   2   441    91    49.00  362   \n",
       "...                 ...      ...      ...  ..   ...   ...      ...  ...   \n",
       "1672        Tim Southee        3        1   0     3     3     3.00    5   \n",
       "1673      Navdeep Saini        2        1   0     2     2     2.00    4   \n",
       "1674     Tabraiz Shamsi        1        1   1     2    2*     0.00    4   \n",
       "1675       Kartik Tyagi        4        2   1     2    1*     2.00    4   \n",
       "1676        Tim Seifert        1        1   0     2     2     2.00    4   \n",
       "\n",
       "          SR  100  50   4   6  season  \n",
       "0     139.68    1   5  59  26    2008  \n",
       "1     140.89    0   5  68   8    2008  \n",
       "2     167.63    1   2  58  31    2008  \n",
       "3     151.76    0   4  47  19    2008  \n",
       "4     121.82    0   3  54   8    2008  \n",
       "...      ...  ...  ..  ..  ..     ...  \n",
       "1672   60.00    0   0   0   0    2021  \n",
       "1673   50.00    0   0   0   0    2021  \n",
       "1674   50.00    0   0   0   0    2021  \n",
       "1675   50.00    0   0   0   0    2021  \n",
       "1676   50.00    0   0   0   0    2021  \n",
       "\n",
       "[1677 rows x 14 columns]"
      ]
     },
     "execution_count": 9,
     "metadata": {},
     "output_type": "execute_result"
    }
   ],
   "source": [
    "df_final.drop(['Unnamed: 0'],axis=1,inplace=True)\n",
    "df_final"
   ]
  },
  {
   "cell_type": "code",
   "execution_count": 10,
   "metadata": {},
   "outputs": [],
   "source": [
    "df_final.index=np.arange(1677)"
   ]
  },
  {
   "cell_type": "code",
   "execution_count": 11,
   "metadata": {},
   "outputs": [
    {
     "data": {
      "text/html": [
       "<div>\n",
       "<style scoped>\n",
       "    .dataframe tbody tr th:only-of-type {\n",
       "        vertical-align: middle;\n",
       "    }\n",
       "\n",
       "    .dataframe tbody tr th {\n",
       "        vertical-align: top;\n",
       "    }\n",
       "\n",
       "    .dataframe thead th {\n",
       "        text-align: right;\n",
       "    }\n",
       "</style>\n",
       "<table border=\"1\" class=\"dataframe\">\n",
       "  <thead>\n",
       "    <tr style=\"text-align: right;\">\n",
       "      <th></th>\n",
       "      <th>Player</th>\n",
       "      <th>matches</th>\n",
       "      <th>innings</th>\n",
       "      <th>No</th>\n",
       "      <th>Runs</th>\n",
       "      <th>HS</th>\n",
       "      <th>Average</th>\n",
       "      <th>BF</th>\n",
       "      <th>SR</th>\n",
       "      <th>100</th>\n",
       "      <th>50</th>\n",
       "      <th>4</th>\n",
       "      <th>6</th>\n",
       "      <th>season</th>\n",
       "    </tr>\n",
       "  </thead>\n",
       "  <tbody>\n",
       "    <tr>\n",
       "      <th>0</th>\n",
       "      <td>Shaun Marsh</td>\n",
       "      <td>11</td>\n",
       "      <td>11</td>\n",
       "      <td>2</td>\n",
       "      <td>616</td>\n",
       "      <td>115</td>\n",
       "      <td>68.44</td>\n",
       "      <td>441</td>\n",
       "      <td>139.68</td>\n",
       "      <td>1</td>\n",
       "      <td>5</td>\n",
       "      <td>59</td>\n",
       "      <td>26</td>\n",
       "      <td>2008</td>\n",
       "    </tr>\n",
       "    <tr>\n",
       "      <th>1</th>\n",
       "      <td>Gautam Gambhir</td>\n",
       "      <td>14</td>\n",
       "      <td>14</td>\n",
       "      <td>1</td>\n",
       "      <td>534</td>\n",
       "      <td>86</td>\n",
       "      <td>41.07</td>\n",
       "      <td>379</td>\n",
       "      <td>140.89</td>\n",
       "      <td>0</td>\n",
       "      <td>5</td>\n",
       "      <td>68</td>\n",
       "      <td>8</td>\n",
       "      <td>2008</td>\n",
       "    </tr>\n",
       "    <tr>\n",
       "      <th>2</th>\n",
       "      <td>Sanath Jayasuriya</td>\n",
       "      <td>14</td>\n",
       "      <td>14</td>\n",
       "      <td>2</td>\n",
       "      <td>518</td>\n",
       "      <td>114*</td>\n",
       "      <td>43.16</td>\n",
       "      <td>309</td>\n",
       "      <td>167.63</td>\n",
       "      <td>1</td>\n",
       "      <td>2</td>\n",
       "      <td>58</td>\n",
       "      <td>31</td>\n",
       "      <td>2008</td>\n",
       "    </tr>\n",
       "    <tr>\n",
       "      <th>3</th>\n",
       "      <td>Shane Watson</td>\n",
       "      <td>15</td>\n",
       "      <td>15</td>\n",
       "      <td>5</td>\n",
       "      <td>472</td>\n",
       "      <td>76*</td>\n",
       "      <td>47.20</td>\n",
       "      <td>311</td>\n",
       "      <td>151.76</td>\n",
       "      <td>0</td>\n",
       "      <td>4</td>\n",
       "      <td>47</td>\n",
       "      <td>19</td>\n",
       "      <td>2008</td>\n",
       "    </tr>\n",
       "    <tr>\n",
       "      <th>4</th>\n",
       "      <td>Graeme Smith</td>\n",
       "      <td>11</td>\n",
       "      <td>11</td>\n",
       "      <td>2</td>\n",
       "      <td>441</td>\n",
       "      <td>91</td>\n",
       "      <td>49.00</td>\n",
       "      <td>362</td>\n",
       "      <td>121.82</td>\n",
       "      <td>0</td>\n",
       "      <td>3</td>\n",
       "      <td>54</td>\n",
       "      <td>8</td>\n",
       "      <td>2008</td>\n",
       "    </tr>\n",
       "    <tr>\n",
       "      <th>...</th>\n",
       "      <td>...</td>\n",
       "      <td>...</td>\n",
       "      <td>...</td>\n",
       "      <td>...</td>\n",
       "      <td>...</td>\n",
       "      <td>...</td>\n",
       "      <td>...</td>\n",
       "      <td>...</td>\n",
       "      <td>...</td>\n",
       "      <td>...</td>\n",
       "      <td>...</td>\n",
       "      <td>...</td>\n",
       "      <td>...</td>\n",
       "      <td>...</td>\n",
       "    </tr>\n",
       "    <tr>\n",
       "      <th>1672</th>\n",
       "      <td>Tim Southee</td>\n",
       "      <td>3</td>\n",
       "      <td>1</td>\n",
       "      <td>0</td>\n",
       "      <td>3</td>\n",
       "      <td>3</td>\n",
       "      <td>3.00</td>\n",
       "      <td>5</td>\n",
       "      <td>60.00</td>\n",
       "      <td>0</td>\n",
       "      <td>0</td>\n",
       "      <td>0</td>\n",
       "      <td>0</td>\n",
       "      <td>2021</td>\n",
       "    </tr>\n",
       "    <tr>\n",
       "      <th>1673</th>\n",
       "      <td>Navdeep Saini</td>\n",
       "      <td>2</td>\n",
       "      <td>1</td>\n",
       "      <td>0</td>\n",
       "      <td>2</td>\n",
       "      <td>2</td>\n",
       "      <td>2.00</td>\n",
       "      <td>4</td>\n",
       "      <td>50.00</td>\n",
       "      <td>0</td>\n",
       "      <td>0</td>\n",
       "      <td>0</td>\n",
       "      <td>0</td>\n",
       "      <td>2021</td>\n",
       "    </tr>\n",
       "    <tr>\n",
       "      <th>1674</th>\n",
       "      <td>Tabraiz Shamsi</td>\n",
       "      <td>1</td>\n",
       "      <td>1</td>\n",
       "      <td>1</td>\n",
       "      <td>2</td>\n",
       "      <td>2*</td>\n",
       "      <td>0.00</td>\n",
       "      <td>4</td>\n",
       "      <td>50.00</td>\n",
       "      <td>0</td>\n",
       "      <td>0</td>\n",
       "      <td>0</td>\n",
       "      <td>0</td>\n",
       "      <td>2021</td>\n",
       "    </tr>\n",
       "    <tr>\n",
       "      <th>1675</th>\n",
       "      <td>Kartik Tyagi</td>\n",
       "      <td>4</td>\n",
       "      <td>2</td>\n",
       "      <td>1</td>\n",
       "      <td>2</td>\n",
       "      <td>1*</td>\n",
       "      <td>2.00</td>\n",
       "      <td>4</td>\n",
       "      <td>50.00</td>\n",
       "      <td>0</td>\n",
       "      <td>0</td>\n",
       "      <td>0</td>\n",
       "      <td>0</td>\n",
       "      <td>2021</td>\n",
       "    </tr>\n",
       "    <tr>\n",
       "      <th>1676</th>\n",
       "      <td>Tim Seifert</td>\n",
       "      <td>1</td>\n",
       "      <td>1</td>\n",
       "      <td>0</td>\n",
       "      <td>2</td>\n",
       "      <td>2</td>\n",
       "      <td>2.00</td>\n",
       "      <td>4</td>\n",
       "      <td>50.00</td>\n",
       "      <td>0</td>\n",
       "      <td>0</td>\n",
       "      <td>0</td>\n",
       "      <td>0</td>\n",
       "      <td>2021</td>\n",
       "    </tr>\n",
       "  </tbody>\n",
       "</table>\n",
       "<p>1677 rows × 14 columns</p>\n",
       "</div>"
      ],
      "text/plain": [
       "                 Player  matches  innings  No  Runs    HS  Average   BF  \\\n",
       "0           Shaun Marsh       11       11   2   616   115    68.44  441   \n",
       "1        Gautam Gambhir       14       14   1   534    86    41.07  379   \n",
       "2     Sanath Jayasuriya       14       14   2   518  114*    43.16  309   \n",
       "3          Shane Watson       15       15   5   472   76*    47.20  311   \n",
       "4          Graeme Smith       11       11   2   441    91    49.00  362   \n",
       "...                 ...      ...      ...  ..   ...   ...      ...  ...   \n",
       "1672        Tim Southee        3        1   0     3     3     3.00    5   \n",
       "1673      Navdeep Saini        2        1   0     2     2     2.00    4   \n",
       "1674     Tabraiz Shamsi        1        1   1     2    2*     0.00    4   \n",
       "1675       Kartik Tyagi        4        2   1     2    1*     2.00    4   \n",
       "1676        Tim Seifert        1        1   0     2     2     2.00    4   \n",
       "\n",
       "          SR  100  50   4   6  season  \n",
       "0     139.68    1   5  59  26    2008  \n",
       "1     140.89    0   5  68   8    2008  \n",
       "2     167.63    1   2  58  31    2008  \n",
       "3     151.76    0   4  47  19    2008  \n",
       "4     121.82    0   3  54   8    2008  \n",
       "...      ...  ...  ..  ..  ..     ...  \n",
       "1672   60.00    0   0   0   0    2021  \n",
       "1673   50.00    0   0   0   0    2021  \n",
       "1674   50.00    0   0   0   0    2021  \n",
       "1675   50.00    0   0   0   0    2021  \n",
       "1676   50.00    0   0   0   0    2021  \n",
       "\n",
       "[1677 rows x 14 columns]"
      ]
     },
     "execution_count": 11,
     "metadata": {},
     "output_type": "execute_result"
    }
   ],
   "source": [
    "df_final"
   ]
  },
  {
   "cell_type": "markdown",
   "metadata": {},
   "source": [
    "# Data Cleaning"
   ]
  },
  {
   "cell_type": "code",
   "execution_count": 12,
   "metadata": {},
   "outputs": [
    {
     "data": {
      "text/html": [
       "<div>\n",
       "<style scoped>\n",
       "    .dataframe tbody tr th:only-of-type {\n",
       "        vertical-align: middle;\n",
       "    }\n",
       "\n",
       "    .dataframe tbody tr th {\n",
       "        vertical-align: top;\n",
       "    }\n",
       "\n",
       "    .dataframe thead th {\n",
       "        text-align: right;\n",
       "    }\n",
       "</style>\n",
       "<table border=\"1\" class=\"dataframe\">\n",
       "  <thead>\n",
       "    <tr style=\"text-align: right;\">\n",
       "      <th></th>\n",
       "      <th>Player</th>\n",
       "      <th>matches</th>\n",
       "      <th>innings</th>\n",
       "      <th>No</th>\n",
       "      <th>Runs</th>\n",
       "      <th>HS</th>\n",
       "      <th>Average</th>\n",
       "      <th>BF</th>\n",
       "      <th>SR</th>\n",
       "      <th>100</th>\n",
       "      <th>50</th>\n",
       "      <th>4</th>\n",
       "      <th>6</th>\n",
       "      <th>season</th>\n",
       "    </tr>\n",
       "  </thead>\n",
       "  <tbody>\n",
       "    <tr>\n",
       "      <th>0</th>\n",
       "      <td>Shaun Marsh</td>\n",
       "      <td>11</td>\n",
       "      <td>11</td>\n",
       "      <td>2</td>\n",
       "      <td>616</td>\n",
       "      <td>115</td>\n",
       "      <td>68.44</td>\n",
       "      <td>441</td>\n",
       "      <td>139.68</td>\n",
       "      <td>1</td>\n",
       "      <td>5</td>\n",
       "      <td>59</td>\n",
       "      <td>26</td>\n",
       "      <td>2008</td>\n",
       "    </tr>\n",
       "    <tr>\n",
       "      <th>1</th>\n",
       "      <td>Gautam Gambhir</td>\n",
       "      <td>14</td>\n",
       "      <td>14</td>\n",
       "      <td>1</td>\n",
       "      <td>534</td>\n",
       "      <td>86</td>\n",
       "      <td>41.07</td>\n",
       "      <td>379</td>\n",
       "      <td>140.89</td>\n",
       "      <td>0</td>\n",
       "      <td>5</td>\n",
       "      <td>68</td>\n",
       "      <td>8</td>\n",
       "      <td>2008</td>\n",
       "    </tr>\n",
       "    <tr>\n",
       "      <th>2</th>\n",
       "      <td>Sanath Jayasuriya</td>\n",
       "      <td>14</td>\n",
       "      <td>14</td>\n",
       "      <td>2</td>\n",
       "      <td>518</td>\n",
       "      <td>114</td>\n",
       "      <td>43.16</td>\n",
       "      <td>309</td>\n",
       "      <td>167.63</td>\n",
       "      <td>1</td>\n",
       "      <td>2</td>\n",
       "      <td>58</td>\n",
       "      <td>31</td>\n",
       "      <td>2008</td>\n",
       "    </tr>\n",
       "    <tr>\n",
       "      <th>3</th>\n",
       "      <td>Shane Watson</td>\n",
       "      <td>15</td>\n",
       "      <td>15</td>\n",
       "      <td>5</td>\n",
       "      <td>472</td>\n",
       "      <td>76</td>\n",
       "      <td>47.20</td>\n",
       "      <td>311</td>\n",
       "      <td>151.76</td>\n",
       "      <td>0</td>\n",
       "      <td>4</td>\n",
       "      <td>47</td>\n",
       "      <td>19</td>\n",
       "      <td>2008</td>\n",
       "    </tr>\n",
       "    <tr>\n",
       "      <th>4</th>\n",
       "      <td>Graeme Smith</td>\n",
       "      <td>11</td>\n",
       "      <td>11</td>\n",
       "      <td>2</td>\n",
       "      <td>441</td>\n",
       "      <td>91</td>\n",
       "      <td>49.00</td>\n",
       "      <td>362</td>\n",
       "      <td>121.82</td>\n",
       "      <td>0</td>\n",
       "      <td>3</td>\n",
       "      <td>54</td>\n",
       "      <td>8</td>\n",
       "      <td>2008</td>\n",
       "    </tr>\n",
       "    <tr>\n",
       "      <th>...</th>\n",
       "      <td>...</td>\n",
       "      <td>...</td>\n",
       "      <td>...</td>\n",
       "      <td>...</td>\n",
       "      <td>...</td>\n",
       "      <td>...</td>\n",
       "      <td>...</td>\n",
       "      <td>...</td>\n",
       "      <td>...</td>\n",
       "      <td>...</td>\n",
       "      <td>...</td>\n",
       "      <td>...</td>\n",
       "      <td>...</td>\n",
       "      <td>...</td>\n",
       "    </tr>\n",
       "    <tr>\n",
       "      <th>1672</th>\n",
       "      <td>Tim Southee</td>\n",
       "      <td>3</td>\n",
       "      <td>1</td>\n",
       "      <td>0</td>\n",
       "      <td>3</td>\n",
       "      <td>3</td>\n",
       "      <td>3.00</td>\n",
       "      <td>5</td>\n",
       "      <td>60.00</td>\n",
       "      <td>0</td>\n",
       "      <td>0</td>\n",
       "      <td>0</td>\n",
       "      <td>0</td>\n",
       "      <td>2021</td>\n",
       "    </tr>\n",
       "    <tr>\n",
       "      <th>1673</th>\n",
       "      <td>Navdeep Saini</td>\n",
       "      <td>2</td>\n",
       "      <td>1</td>\n",
       "      <td>0</td>\n",
       "      <td>2</td>\n",
       "      <td>2</td>\n",
       "      <td>2.00</td>\n",
       "      <td>4</td>\n",
       "      <td>50.00</td>\n",
       "      <td>0</td>\n",
       "      <td>0</td>\n",
       "      <td>0</td>\n",
       "      <td>0</td>\n",
       "      <td>2021</td>\n",
       "    </tr>\n",
       "    <tr>\n",
       "      <th>1674</th>\n",
       "      <td>Tabraiz Shamsi</td>\n",
       "      <td>1</td>\n",
       "      <td>1</td>\n",
       "      <td>1</td>\n",
       "      <td>2</td>\n",
       "      <td>2</td>\n",
       "      <td>0.00</td>\n",
       "      <td>4</td>\n",
       "      <td>50.00</td>\n",
       "      <td>0</td>\n",
       "      <td>0</td>\n",
       "      <td>0</td>\n",
       "      <td>0</td>\n",
       "      <td>2021</td>\n",
       "    </tr>\n",
       "    <tr>\n",
       "      <th>1675</th>\n",
       "      <td>Kartik Tyagi</td>\n",
       "      <td>4</td>\n",
       "      <td>2</td>\n",
       "      <td>1</td>\n",
       "      <td>2</td>\n",
       "      <td>1</td>\n",
       "      <td>2.00</td>\n",
       "      <td>4</td>\n",
       "      <td>50.00</td>\n",
       "      <td>0</td>\n",
       "      <td>0</td>\n",
       "      <td>0</td>\n",
       "      <td>0</td>\n",
       "      <td>2021</td>\n",
       "    </tr>\n",
       "    <tr>\n",
       "      <th>1676</th>\n",
       "      <td>Tim Seifert</td>\n",
       "      <td>1</td>\n",
       "      <td>1</td>\n",
       "      <td>0</td>\n",
       "      <td>2</td>\n",
       "      <td>2</td>\n",
       "      <td>2.00</td>\n",
       "      <td>4</td>\n",
       "      <td>50.00</td>\n",
       "      <td>0</td>\n",
       "      <td>0</td>\n",
       "      <td>0</td>\n",
       "      <td>0</td>\n",
       "      <td>2021</td>\n",
       "    </tr>\n",
       "  </tbody>\n",
       "</table>\n",
       "<p>1677 rows × 14 columns</p>\n",
       "</div>"
      ],
      "text/plain": [
       "                 Player  matches  innings  No  Runs   HS  Average   BF  \\\n",
       "0           Shaun Marsh       11       11   2   616  115    68.44  441   \n",
       "1        Gautam Gambhir       14       14   1   534   86    41.07  379   \n",
       "2     Sanath Jayasuriya       14       14   2   518  114    43.16  309   \n",
       "3          Shane Watson       15       15   5   472   76    47.20  311   \n",
       "4          Graeme Smith       11       11   2   441   91    49.00  362   \n",
       "...                 ...      ...      ...  ..   ...  ...      ...  ...   \n",
       "1672        Tim Southee        3        1   0     3    3     3.00    5   \n",
       "1673      Navdeep Saini        2        1   0     2    2     2.00    4   \n",
       "1674     Tabraiz Shamsi        1        1   1     2    2     0.00    4   \n",
       "1675       Kartik Tyagi        4        2   1     2    1     2.00    4   \n",
       "1676        Tim Seifert        1        1   0     2    2     2.00    4   \n",
       "\n",
       "          SR  100  50   4   6  season  \n",
       "0     139.68    1   5  59  26    2008  \n",
       "1     140.89    0   5  68   8    2008  \n",
       "2     167.63    1   2  58  31    2008  \n",
       "3     151.76    0   4  47  19    2008  \n",
       "4     121.82    0   3  54   8    2008  \n",
       "...      ...  ...  ..  ..  ..     ...  \n",
       "1672   60.00    0   0   0   0    2021  \n",
       "1673   50.00    0   0   0   0    2021  \n",
       "1674   50.00    0   0   0   0    2021  \n",
       "1675   50.00    0   0   0   0    2021  \n",
       "1676   50.00    0   0   0   0    2021  \n",
       "\n",
       "[1677 rows x 14 columns]"
      ]
     },
     "execution_count": 12,
     "metadata": {},
     "output_type": "execute_result"
    }
   ],
   "source": [
    "df_final['HS']=df_final['HS'].apply(lambda x:x.replace('*',''))\n",
    "df_final"
   ]
  },
  {
   "cell_type": "code",
   "execution_count": 13,
   "metadata": {},
   "outputs": [
    {
     "data": {
      "text/plain": [
       "Player     0\n",
       "matches    0\n",
       "innings    0\n",
       "No         0\n",
       "Runs       0\n",
       "HS         0\n",
       "Average    0\n",
       "BF         0\n",
       "SR         0\n",
       "100        0\n",
       "50         0\n",
       "4          0\n",
       "6          0\n",
       "season     0\n",
       "dtype: int64"
      ]
     },
     "execution_count": 13,
     "metadata": {},
     "output_type": "execute_result"
    }
   ],
   "source": [
    "df_final.isnull().sum()"
   ]
  },
  {
   "cell_type": "code",
   "execution_count": 14,
   "metadata": {},
   "outputs": [
    {
     "name": "stdout",
     "output_type": "stream",
     "text": [
      "<class 'pandas.core.frame.DataFrame'>\n",
      "Int64Index: 1677 entries, 0 to 1676\n",
      "Data columns (total 14 columns):\n",
      " #   Column   Non-Null Count  Dtype  \n",
      "---  ------   --------------  -----  \n",
      " 0   Player   1677 non-null   object \n",
      " 1   matches  1677 non-null   int64  \n",
      " 2   innings  1677 non-null   int64  \n",
      " 3   No       1677 non-null   int64  \n",
      " 4   Runs     1677 non-null   int64  \n",
      " 5   HS       1677 non-null   object \n",
      " 6   Average  1677 non-null   float64\n",
      " 7   BF       1677 non-null   int64  \n",
      " 8   SR       1677 non-null   float64\n",
      " 9   100      1677 non-null   int64  \n",
      " 10  50       1677 non-null   int64  \n",
      " 11  4        1677 non-null   int64  \n",
      " 12  6        1677 non-null   int64  \n",
      " 13  season   1677 non-null   int64  \n",
      "dtypes: float64(2), int64(10), object(2)\n",
      "memory usage: 196.5+ KB\n"
     ]
    }
   ],
   "source": [
    "df_final.info()"
   ]
  },
  {
   "cell_type": "code",
   "execution_count": 15,
   "metadata": {},
   "outputs": [
    {
     "data": {
      "text/html": [
       "<div>\n",
       "<style scoped>\n",
       "    .dataframe tbody tr th:only-of-type {\n",
       "        vertical-align: middle;\n",
       "    }\n",
       "\n",
       "    .dataframe tbody tr th {\n",
       "        vertical-align: top;\n",
       "    }\n",
       "\n",
       "    .dataframe thead th {\n",
       "        text-align: right;\n",
       "    }\n",
       "</style>\n",
       "<table border=\"1\" class=\"dataframe\">\n",
       "  <thead>\n",
       "    <tr style=\"text-align: right;\">\n",
       "      <th></th>\n",
       "      <th>matches</th>\n",
       "      <th>innings</th>\n",
       "      <th>No</th>\n",
       "      <th>Runs</th>\n",
       "      <th>Average</th>\n",
       "      <th>BF</th>\n",
       "      <th>SR</th>\n",
       "      <th>100</th>\n",
       "      <th>50</th>\n",
       "      <th>4</th>\n",
       "      <th>6</th>\n",
       "      <th>season</th>\n",
       "    </tr>\n",
       "  </thead>\n",
       "  <tbody>\n",
       "    <tr>\n",
       "      <th>count</th>\n",
       "      <td>1677.000000</td>\n",
       "      <td>1677.000000</td>\n",
       "      <td>1677.000000</td>\n",
       "      <td>1677.000000</td>\n",
       "      <td>1677.000000</td>\n",
       "      <td>1677.000000</td>\n",
       "      <td>1677.000000</td>\n",
       "      <td>1677.000000</td>\n",
       "      <td>1677.000000</td>\n",
       "      <td>1677.000000</td>\n",
       "      <td>1677.000000</td>\n",
       "      <td>1677.000000</td>\n",
       "    </tr>\n",
       "    <tr>\n",
       "      <th>mean</th>\n",
       "      <td>9.315444</td>\n",
       "      <td>7.070960</td>\n",
       "      <td>1.609422</td>\n",
       "      <td>140.545617</td>\n",
       "      <td>19.911604</td>\n",
       "      <td>110.067979</td>\n",
       "      <td>116.033393</td>\n",
       "      <td>0.036374</td>\n",
       "      <td>0.714967</td>\n",
       "      <td>12.852117</td>\n",
       "      <td>5.160405</td>\n",
       "      <td>2014.230769</td>\n",
       "    </tr>\n",
       "    <tr>\n",
       "      <th>std</th>\n",
       "      <td>4.905317</td>\n",
       "      <td>4.787773</td>\n",
       "      <td>1.617913</td>\n",
       "      <td>155.604422</td>\n",
       "      <td>15.084900</td>\n",
       "      <td>114.917980</td>\n",
       "      <td>37.757277</td>\n",
       "      <td>0.214038</td>\n",
       "      <td>1.290630</td>\n",
       "      <td>15.652882</td>\n",
       "      <td>6.950209</td>\n",
       "      <td>4.061409</td>\n",
       "    </tr>\n",
       "    <tr>\n",
       "      <th>min</th>\n",
       "      <td>1.000000</td>\n",
       "      <td>1.000000</td>\n",
       "      <td>0.000000</td>\n",
       "      <td>0.000000</td>\n",
       "      <td>0.000000</td>\n",
       "      <td>1.000000</td>\n",
       "      <td>0.000000</td>\n",
       "      <td>0.000000</td>\n",
       "      <td>0.000000</td>\n",
       "      <td>0.000000</td>\n",
       "      <td>0.000000</td>\n",
       "      <td>2008.000000</td>\n",
       "    </tr>\n",
       "    <tr>\n",
       "      <th>25%</th>\n",
       "      <td>5.000000</td>\n",
       "      <td>3.000000</td>\n",
       "      <td>0.000000</td>\n",
       "      <td>18.000000</td>\n",
       "      <td>8.420000</td>\n",
       "      <td>18.000000</td>\n",
       "      <td>98.140000</td>\n",
       "      <td>0.000000</td>\n",
       "      <td>0.000000</td>\n",
       "      <td>1.000000</td>\n",
       "      <td>0.000000</td>\n",
       "      <td>2011.000000</td>\n",
       "    </tr>\n",
       "    <tr>\n",
       "      <th>50%</th>\n",
       "      <td>10.000000</td>\n",
       "      <td>6.000000</td>\n",
       "      <td>1.000000</td>\n",
       "      <td>72.000000</td>\n",
       "      <td>18.000000</td>\n",
       "      <td>62.000000</td>\n",
       "      <td>118.260000</td>\n",
       "      <td>0.000000</td>\n",
       "      <td>0.000000</td>\n",
       "      <td>6.000000</td>\n",
       "      <td>2.000000</td>\n",
       "      <td>2014.000000</td>\n",
       "    </tr>\n",
       "    <tr>\n",
       "      <th>75%</th>\n",
       "      <td>14.000000</td>\n",
       "      <td>11.000000</td>\n",
       "      <td>2.000000</td>\n",
       "      <td>228.000000</td>\n",
       "      <td>28.440000</td>\n",
       "      <td>175.000000</td>\n",
       "      <td>136.310000</td>\n",
       "      <td>0.000000</td>\n",
       "      <td>1.000000</td>\n",
       "      <td>20.000000</td>\n",
       "      <td>8.000000</td>\n",
       "      <td>2017.000000</td>\n",
       "    </tr>\n",
       "    <tr>\n",
       "      <th>max</th>\n",
       "      <td>19.000000</td>\n",
       "      <td>19.000000</td>\n",
       "      <td>10.000000</td>\n",
       "      <td>973.000000</td>\n",
       "      <td>152.000000</td>\n",
       "      <td>640.000000</td>\n",
       "      <td>400.000000</td>\n",
       "      <td>4.000000</td>\n",
       "      <td>9.000000</td>\n",
       "      <td>88.000000</td>\n",
       "      <td>59.000000</td>\n",
       "      <td>2021.000000</td>\n",
       "    </tr>\n",
       "  </tbody>\n",
       "</table>\n",
       "</div>"
      ],
      "text/plain": [
       "           matches      innings           No         Runs      Average  \\\n",
       "count  1677.000000  1677.000000  1677.000000  1677.000000  1677.000000   \n",
       "mean      9.315444     7.070960     1.609422   140.545617    19.911604   \n",
       "std       4.905317     4.787773     1.617913   155.604422    15.084900   \n",
       "min       1.000000     1.000000     0.000000     0.000000     0.000000   \n",
       "25%       5.000000     3.000000     0.000000    18.000000     8.420000   \n",
       "50%      10.000000     6.000000     1.000000    72.000000    18.000000   \n",
       "75%      14.000000    11.000000     2.000000   228.000000    28.440000   \n",
       "max      19.000000    19.000000    10.000000   973.000000   152.000000   \n",
       "\n",
       "                BF           SR          100           50            4  \\\n",
       "count  1677.000000  1677.000000  1677.000000  1677.000000  1677.000000   \n",
       "mean    110.067979   116.033393     0.036374     0.714967    12.852117   \n",
       "std     114.917980    37.757277     0.214038     1.290630    15.652882   \n",
       "min       1.000000     0.000000     0.000000     0.000000     0.000000   \n",
       "25%      18.000000    98.140000     0.000000     0.000000     1.000000   \n",
       "50%      62.000000   118.260000     0.000000     0.000000     6.000000   \n",
       "75%     175.000000   136.310000     0.000000     1.000000    20.000000   \n",
       "max     640.000000   400.000000     4.000000     9.000000    88.000000   \n",
       "\n",
       "                 6       season  \n",
       "count  1677.000000  1677.000000  \n",
       "mean      5.160405  2014.230769  \n",
       "std       6.950209     4.061409  \n",
       "min       0.000000  2008.000000  \n",
       "25%       0.000000  2011.000000  \n",
       "50%       2.000000  2014.000000  \n",
       "75%       8.000000  2017.000000  \n",
       "max      59.000000  2021.000000  "
      ]
     },
     "execution_count": 15,
     "metadata": {},
     "output_type": "execute_result"
    }
   ],
   "source": [
    "df_final.describe()"
   ]
  },
  {
   "cell_type": "code",
   "execution_count": 16,
   "metadata": {},
   "outputs": [],
   "source": [
    "df_final.to_csv('ipldata_after_cleaning.csv')"
   ]
  },
  {
   "cell_type": "code",
   "execution_count": 17,
   "metadata": {},
   "outputs": [],
   "source": [
    "df_final = pd.read_csv('ipldata_after_cleaning.csv')"
   ]
  },
  {
   "cell_type": "markdown",
   "metadata": {},
   "source": [
    "# Converting data type"
   ]
  },
  {
   "cell_type": "code",
   "execution_count": 18,
   "metadata": {},
   "outputs": [],
   "source": [
    "df_final['matches'] = df_final['matches'].astype('int64')\n",
    "df_final['innings']=df_final['innings'].astype('int64')\n",
    "df_final['No']=df_final['No'].astype('int64')\n",
    "df_final['Runs']=df_final['Runs'].astype('int64')\n",
    "df_final['HS']=df_final['HS'].astype('int64')\n",
    "df_final['Average']=df_final['Average'].astype('float')\n",
    "df_final['BF']=df_final['BF'].astype('int64')\n",
    "df_final['SR']=df_final['SR'].astype('float')\n",
    "df_final['100']=df_final['100'].astype('int64')\n",
    "df_final['50']=df_final['50'].astype('int64')\n",
    "df_final['4']=df_final['4'].astype('int64')\n",
    "df_final['6']=df_final['6'].astype('int64')\n",
    "df_final['season']=df_final['season'].astype('int64')"
   ]
  },
  {
   "cell_type": "code",
   "execution_count": 19,
   "metadata": {},
   "outputs": [
    {
     "name": "stdout",
     "output_type": "stream",
     "text": [
      "<class 'pandas.core.frame.DataFrame'>\n",
      "RangeIndex: 1677 entries, 0 to 1676\n",
      "Data columns (total 15 columns):\n",
      " #   Column      Non-Null Count  Dtype  \n",
      "---  ------      --------------  -----  \n",
      " 0   Unnamed: 0  1677 non-null   int64  \n",
      " 1   Player      1677 non-null   object \n",
      " 2   matches     1677 non-null   int64  \n",
      " 3   innings     1677 non-null   int64  \n",
      " 4   No          1677 non-null   int64  \n",
      " 5   Runs        1677 non-null   int64  \n",
      " 6   HS          1677 non-null   int64  \n",
      " 7   Average     1677 non-null   float64\n",
      " 8   BF          1677 non-null   int64  \n",
      " 9   SR          1677 non-null   float64\n",
      " 10  100         1677 non-null   int64  \n",
      " 11  50          1677 non-null   int64  \n",
      " 12  4           1677 non-null   int64  \n",
      " 13  6           1677 non-null   int64  \n",
      " 14  season      1677 non-null   int64  \n",
      "dtypes: float64(2), int64(12), object(1)\n",
      "memory usage: 196.6+ KB\n"
     ]
    }
   ],
   "source": [
    "df_final.info()"
   ]
  },
  {
   "cell_type": "markdown",
   "metadata": {},
   "source": [
    "# Data Analysis"
   ]
  },
  {
   "cell_type": "markdown",
   "metadata": {},
   "source": [
    "- Uni-variate Analysis\n",
    "- Bi-variate Analysis\n",
    "- Multi-variate Analysis\n"
   ]
  },
  {
   "cell_type": "markdown",
   "metadata": {},
   "source": [
    "# Univariate Analysis for matches:"
   ]
  },
  {
   "cell_type": "code",
   "execution_count": 20,
   "metadata": {},
   "outputs": [
    {
     "data": {
      "text/plain": [
       "count    1677.000000\n",
       "mean        9.315444\n",
       "std         4.905317\n",
       "min         1.000000\n",
       "25%         5.000000\n",
       "50%        10.000000\n",
       "75%        14.000000\n",
       "max        19.000000\n",
       "Name: matches, dtype: float64"
      ]
     },
     "execution_count": 20,
     "metadata": {},
     "output_type": "execute_result"
    }
   ],
   "source": [
    "df_final['matches'].describe()"
   ]
  },
  {
   "cell_type": "markdown",
   "metadata": {},
   "source": [
    "# Players who has played maximum matches"
   ]
  },
  {
   "cell_type": "code",
   "execution_count": 21,
   "metadata": {},
   "outputs": [
    {
     "data": {
      "text/html": [
       "<div>\n",
       "<style scoped>\n",
       "    .dataframe tbody tr th:only-of-type {\n",
       "        vertical-align: middle;\n",
       "    }\n",
       "\n",
       "    .dataframe tbody tr th {\n",
       "        vertical-align: top;\n",
       "    }\n",
       "\n",
       "    .dataframe thead th {\n",
       "        text-align: right;\n",
       "    }\n",
       "</style>\n",
       "<table border=\"1\" class=\"dataframe\">\n",
       "  <thead>\n",
       "    <tr style=\"text-align: right;\">\n",
       "      <th></th>\n",
       "      <th>Unnamed: 0</th>\n",
       "      <th>Player</th>\n",
       "      <th>matches</th>\n",
       "      <th>innings</th>\n",
       "      <th>No</th>\n",
       "      <th>Runs</th>\n",
       "      <th>HS</th>\n",
       "      <th>Average</th>\n",
       "      <th>BF</th>\n",
       "      <th>SR</th>\n",
       "      <th>100</th>\n",
       "      <th>50</th>\n",
       "      <th>4</th>\n",
       "      <th>6</th>\n",
       "      <th>season</th>\n",
       "    </tr>\n",
       "  </thead>\n",
       "  <tbody>\n",
       "    <tr>\n",
       "      <th>523</th>\n",
       "      <td>523</td>\n",
       "      <td>Suresh Raina</td>\n",
       "      <td>19</td>\n",
       "      <td>18</td>\n",
       "      <td>1</td>\n",
       "      <td>441</td>\n",
       "      <td>73</td>\n",
       "      <td>25.94</td>\n",
       "      <td>325</td>\n",
       "      <td>135.69</td>\n",
       "      <td>0</td>\n",
       "      <td>1</td>\n",
       "      <td>36</td>\n",
       "      <td>19</td>\n",
       "      <td>2012</td>\n",
       "    </tr>\n",
       "    <tr>\n",
       "      <th>530</th>\n",
       "      <td>530</td>\n",
       "      <td>Dwayne Bravo</td>\n",
       "      <td>19</td>\n",
       "      <td>16</td>\n",
       "      <td>8</td>\n",
       "      <td>371</td>\n",
       "      <td>48</td>\n",
       "      <td>46.37</td>\n",
       "      <td>264</td>\n",
       "      <td>140.53</td>\n",
       "      <td>0</td>\n",
       "      <td>0</td>\n",
       "      <td>20</td>\n",
       "      <td>20</td>\n",
       "      <td>2012</td>\n",
       "    </tr>\n",
       "    <tr>\n",
       "      <th>533</th>\n",
       "      <td>533</td>\n",
       "      <td>MS Dhoni</td>\n",
       "      <td>19</td>\n",
       "      <td>17</td>\n",
       "      <td>5</td>\n",
       "      <td>358</td>\n",
       "      <td>51</td>\n",
       "      <td>29.83</td>\n",
       "      <td>278</td>\n",
       "      <td>128.77</td>\n",
       "      <td>0</td>\n",
       "      <td>1</td>\n",
       "      <td>26</td>\n",
       "      <td>9</td>\n",
       "      <td>2012</td>\n",
       "    </tr>\n",
       "    <tr>\n",
       "      <th>564</th>\n",
       "      <td>564</td>\n",
       "      <td>Ravindra Jadeja</td>\n",
       "      <td>19</td>\n",
       "      <td>14</td>\n",
       "      <td>2</td>\n",
       "      <td>191</td>\n",
       "      <td>48</td>\n",
       "      <td>15.91</td>\n",
       "      <td>151</td>\n",
       "      <td>126.49</td>\n",
       "      <td>0</td>\n",
       "      <td>0</td>\n",
       "      <td>13</td>\n",
       "      <td>9</td>\n",
       "      <td>2012</td>\n",
       "    </tr>\n",
       "    <tr>\n",
       "      <th>624</th>\n",
       "      <td>624</td>\n",
       "      <td>Ravichandran Ashwin</td>\n",
       "      <td>19</td>\n",
       "      <td>5</td>\n",
       "      <td>2</td>\n",
       "      <td>18</td>\n",
       "      <td>8</td>\n",
       "      <td>6.00</td>\n",
       "      <td>15</td>\n",
       "      <td>120.00</td>\n",
       "      <td>0</td>\n",
       "      <td>0</td>\n",
       "      <td>2</td>\n",
       "      <td>0</td>\n",
       "      <td>2012</td>\n",
       "    </tr>\n",
       "    <tr>\n",
       "      <th>650</th>\n",
       "      <td>650</td>\n",
       "      <td>Rohit Sharma</td>\n",
       "      <td>19</td>\n",
       "      <td>19</td>\n",
       "      <td>5</td>\n",
       "      <td>538</td>\n",
       "      <td>79</td>\n",
       "      <td>38.42</td>\n",
       "      <td>409</td>\n",
       "      <td>131.54</td>\n",
       "      <td>0</td>\n",
       "      <td>4</td>\n",
       "      <td>35</td>\n",
       "      <td>28</td>\n",
       "      <td>2013</td>\n",
       "    </tr>\n",
       "    <tr>\n",
       "      <th>651</th>\n",
       "      <td>651</td>\n",
       "      <td>Dinesh Karthik</td>\n",
       "      <td>19</td>\n",
       "      <td>19</td>\n",
       "      <td>1</td>\n",
       "      <td>510</td>\n",
       "      <td>86</td>\n",
       "      <td>28.33</td>\n",
       "      <td>411</td>\n",
       "      <td>124.08</td>\n",
       "      <td>0</td>\n",
       "      <td>2</td>\n",
       "      <td>54</td>\n",
       "      <td>14</td>\n",
       "      <td>2013</td>\n",
       "    </tr>\n",
       "    <tr>\n",
       "      <th>676</th>\n",
       "      <td>676</td>\n",
       "      <td>Ambati Rayudu</td>\n",
       "      <td>19</td>\n",
       "      <td>17</td>\n",
       "      <td>3</td>\n",
       "      <td>265</td>\n",
       "      <td>37</td>\n",
       "      <td>18.92</td>\n",
       "      <td>231</td>\n",
       "      <td>114.71</td>\n",
       "      <td>0</td>\n",
       "      <td>0</td>\n",
       "      <td>22</td>\n",
       "      <td>4</td>\n",
       "      <td>2013</td>\n",
       "    </tr>\n",
       "    <tr>\n",
       "      <th>707</th>\n",
       "      <td>707</td>\n",
       "      <td>Harbhajan Singh</td>\n",
       "      <td>19</td>\n",
       "      <td>14</td>\n",
       "      <td>8</td>\n",
       "      <td>116</td>\n",
       "      <td>25</td>\n",
       "      <td>19.33</td>\n",
       "      <td>79</td>\n",
       "      <td>146.83</td>\n",
       "      <td>0</td>\n",
       "      <td>0</td>\n",
       "      <td>12</td>\n",
       "      <td>5</td>\n",
       "      <td>2013</td>\n",
       "    </tr>\n",
       "  </tbody>\n",
       "</table>\n",
       "</div>"
      ],
      "text/plain": [
       "     Unnamed: 0               Player  matches  innings  No  Runs  HS  Average  \\\n",
       "523         523         Suresh Raina       19       18   1   441  73    25.94   \n",
       "530         530         Dwayne Bravo       19       16   8   371  48    46.37   \n",
       "533         533             MS Dhoni       19       17   5   358  51    29.83   \n",
       "564         564      Ravindra Jadeja       19       14   2   191  48    15.91   \n",
       "624         624  Ravichandran Ashwin       19        5   2    18   8     6.00   \n",
       "650         650         Rohit Sharma       19       19   5   538  79    38.42   \n",
       "651         651       Dinesh Karthik       19       19   1   510  86    28.33   \n",
       "676         676        Ambati Rayudu       19       17   3   265  37    18.92   \n",
       "707         707      Harbhajan Singh       19       14   8   116  25    19.33   \n",
       "\n",
       "      BF      SR  100  50   4   6  season  \n",
       "523  325  135.69    0   1  36  19    2012  \n",
       "530  264  140.53    0   0  20  20    2012  \n",
       "533  278  128.77    0   1  26   9    2012  \n",
       "564  151  126.49    0   0  13   9    2012  \n",
       "624   15  120.00    0   0   2   0    2012  \n",
       "650  409  131.54    0   4  35  28    2013  \n",
       "651  411  124.08    0   2  54  14    2013  \n",
       "676  231  114.71    0   0  22   4    2013  \n",
       "707   79  146.83    0   0  12   5    2013  "
      ]
     },
     "execution_count": 21,
     "metadata": {},
     "output_type": "execute_result"
    }
   ],
   "source": [
    "df_final[df_final['matches'] == max(df_final['matches'])]"
   ]
  },
  {
   "cell_type": "markdown",
   "metadata": {},
   "source": [
    "# Univariate Analysis for innings:"
   ]
  },
  {
   "cell_type": "code",
   "execution_count": 22,
   "metadata": {},
   "outputs": [
    {
     "data": {
      "text/plain": [
       "count    1677.000000\n",
       "mean        7.070960\n",
       "std         4.787773\n",
       "min         1.000000\n",
       "25%         3.000000\n",
       "50%         6.000000\n",
       "75%        11.000000\n",
       "max        19.000000\n",
       "Name: innings, dtype: float64"
      ]
     },
     "execution_count": 22,
     "metadata": {},
     "output_type": "execute_result"
    }
   ],
   "source": [
    "df_final['innings'].describe()"
   ]
  },
  {
   "cell_type": "markdown",
   "metadata": {},
   "source": [
    "# Players who has played maximum innings"
   ]
  },
  {
   "cell_type": "code",
   "execution_count": 23,
   "metadata": {},
   "outputs": [
    {
     "data": {
      "text/html": [
       "<div>\n",
       "<style scoped>\n",
       "    .dataframe tbody tr th:only-of-type {\n",
       "        vertical-align: middle;\n",
       "    }\n",
       "\n",
       "    .dataframe tbody tr th {\n",
       "        vertical-align: top;\n",
       "    }\n",
       "\n",
       "    .dataframe thead th {\n",
       "        text-align: right;\n",
       "    }\n",
       "</style>\n",
       "<table border=\"1\" class=\"dataframe\">\n",
       "  <thead>\n",
       "    <tr style=\"text-align: right;\">\n",
       "      <th></th>\n",
       "      <th>Unnamed: 0</th>\n",
       "      <th>Player</th>\n",
       "      <th>matches</th>\n",
       "      <th>innings</th>\n",
       "      <th>No</th>\n",
       "      <th>Runs</th>\n",
       "      <th>HS</th>\n",
       "      <th>Average</th>\n",
       "      <th>BF</th>\n",
       "      <th>SR</th>\n",
       "      <th>100</th>\n",
       "      <th>50</th>\n",
       "      <th>4</th>\n",
       "      <th>6</th>\n",
       "      <th>season</th>\n",
       "    </tr>\n",
       "  </thead>\n",
       "  <tbody>\n",
       "    <tr>\n",
       "      <th>650</th>\n",
       "      <td>650</td>\n",
       "      <td>Rohit Sharma</td>\n",
       "      <td>19</td>\n",
       "      <td>19</td>\n",
       "      <td>5</td>\n",
       "      <td>538</td>\n",
       "      <td>79</td>\n",
       "      <td>38.42</td>\n",
       "      <td>409</td>\n",
       "      <td>131.54</td>\n",
       "      <td>0</td>\n",
       "      <td>4</td>\n",
       "      <td>35</td>\n",
       "      <td>28</td>\n",
       "      <td>2013</td>\n",
       "    </tr>\n",
       "    <tr>\n",
       "      <th>651</th>\n",
       "      <td>651</td>\n",
       "      <td>Dinesh Karthik</td>\n",
       "      <td>19</td>\n",
       "      <td>19</td>\n",
       "      <td>1</td>\n",
       "      <td>510</td>\n",
       "      <td>86</td>\n",
       "      <td>28.33</td>\n",
       "      <td>411</td>\n",
       "      <td>124.08</td>\n",
       "      <td>0</td>\n",
       "      <td>2</td>\n",
       "      <td>54</td>\n",
       "      <td>14</td>\n",
       "      <td>2013</td>\n",
       "    </tr>\n",
       "  </tbody>\n",
       "</table>\n",
       "</div>"
      ],
      "text/plain": [
       "     Unnamed: 0          Player  matches  innings  No  Runs  HS  Average   BF  \\\n",
       "650         650    Rohit Sharma       19       19   5   538  79    38.42  409   \n",
       "651         651  Dinesh Karthik       19       19   1   510  86    28.33  411   \n",
       "\n",
       "         SR  100  50   4   6  season  \n",
       "650  131.54    0   4  35  28    2013  \n",
       "651  124.08    0   2  54  14    2013  "
      ]
     },
     "execution_count": 23,
     "metadata": {},
     "output_type": "execute_result"
    }
   ],
   "source": [
    "df_final[df_final['innings']==max(df_final['innings'])]"
   ]
  },
  {
   "cell_type": "markdown",
   "metadata": {},
   "source": [
    "# Univariate Analysis for Not Out:"
   ]
  },
  {
   "cell_type": "code",
   "execution_count": 24,
   "metadata": {},
   "outputs": [
    {
     "data": {
      "text/plain": [
       "count    1677.000000\n",
       "mean        1.609422\n",
       "std         1.617913\n",
       "min         0.000000\n",
       "25%         0.000000\n",
       "50%         1.000000\n",
       "75%         2.000000\n",
       "max        10.000000\n",
       "Name: No, dtype: float64"
      ]
     },
     "execution_count": 24,
     "metadata": {},
     "output_type": "execute_result"
    }
   ],
   "source": [
    "df_final['No'].describe()"
   ]
  },
  {
   "cell_type": "markdown",
   "metadata": {},
   "source": [
    "# Players who were maximum no of times not out"
   ]
  },
  {
   "cell_type": "code",
   "execution_count": 25,
   "metadata": {},
   "outputs": [
    {
     "data": {
      "text/html": [
       "<div>\n",
       "<style scoped>\n",
       "    .dataframe tbody tr th:only-of-type {\n",
       "        vertical-align: middle;\n",
       "    }\n",
       "\n",
       "    .dataframe tbody tr th {\n",
       "        vertical-align: top;\n",
       "    }\n",
       "\n",
       "    .dataframe thead th {\n",
       "        text-align: right;\n",
       "    }\n",
       "</style>\n",
       "<table border=\"1\" class=\"dataframe\">\n",
       "  <thead>\n",
       "    <tr style=\"text-align: right;\">\n",
       "      <th></th>\n",
       "      <th>Unnamed: 0</th>\n",
       "      <th>Player</th>\n",
       "      <th>matches</th>\n",
       "      <th>innings</th>\n",
       "      <th>No</th>\n",
       "      <th>Runs</th>\n",
       "      <th>HS</th>\n",
       "      <th>Average</th>\n",
       "      <th>BF</th>\n",
       "      <th>SR</th>\n",
       "      <th>100</th>\n",
       "      <th>50</th>\n",
       "      <th>4</th>\n",
       "      <th>6</th>\n",
       "      <th>season</th>\n",
       "    </tr>\n",
       "  </thead>\n",
       "  <tbody>\n",
       "    <tr>\n",
       "      <th>789</th>\n",
       "      <td>789</td>\n",
       "      <td>MS Dhoni</td>\n",
       "      <td>16</td>\n",
       "      <td>15</td>\n",
       "      <td>10</td>\n",
       "      <td>371</td>\n",
       "      <td>57</td>\n",
       "      <td>74.2</td>\n",
       "      <td>250</td>\n",
       "      <td>148.4</td>\n",
       "      <td>0</td>\n",
       "      <td>1</td>\n",
       "      <td>22</td>\n",
       "      <td>20</td>\n",
       "      <td>2014</td>\n",
       "    </tr>\n",
       "  </tbody>\n",
       "</table>\n",
       "</div>"
      ],
      "text/plain": [
       "     Unnamed: 0    Player  matches  innings  No  Runs  HS  Average   BF  \\\n",
       "789         789  MS Dhoni       16       15  10   371  57     74.2  250   \n",
       "\n",
       "        SR  100  50   4   6  season  \n",
       "789  148.4    0   1  22  20    2014  "
      ]
     },
     "execution_count": 25,
     "metadata": {},
     "output_type": "execute_result"
    }
   ],
   "source": [
    "df_final[df_final['No']==max(df_final['No'])]"
   ]
  },
  {
   "cell_type": "markdown",
   "metadata": {},
   "source": [
    "# Univariate Analysis for Runs:"
   ]
  },
  {
   "cell_type": "code",
   "execution_count": 26,
   "metadata": {},
   "outputs": [
    {
     "data": {
      "text/plain": [
       "count    1677.000000\n",
       "mean      140.545617\n",
       "std       155.604422\n",
       "min         0.000000\n",
       "25%        18.000000\n",
       "50%        72.000000\n",
       "75%       228.000000\n",
       "max       973.000000\n",
       "Name: Runs, dtype: float64"
      ]
     },
     "execution_count": 26,
     "metadata": {},
     "output_type": "execute_result"
    }
   ],
   "source": [
    "df_final['Runs'].describe()"
   ]
  },
  {
   "cell_type": "markdown",
   "metadata": {},
   "source": [
    "# Player who has scored highest runs"
   ]
  },
  {
   "cell_type": "code",
   "execution_count": 27,
   "metadata": {},
   "outputs": [
    {
     "data": {
      "text/html": [
       "<div>\n",
       "<style scoped>\n",
       "    .dataframe tbody tr th:only-of-type {\n",
       "        vertical-align: middle;\n",
       "    }\n",
       "\n",
       "    .dataframe tbody tr th {\n",
       "        vertical-align: top;\n",
       "    }\n",
       "\n",
       "    .dataframe thead th {\n",
       "        text-align: right;\n",
       "    }\n",
       "</style>\n",
       "<table border=\"1\" class=\"dataframe\">\n",
       "  <thead>\n",
       "    <tr style=\"text-align: right;\">\n",
       "      <th></th>\n",
       "      <th>Unnamed: 0</th>\n",
       "      <th>Player</th>\n",
       "      <th>matches</th>\n",
       "      <th>innings</th>\n",
       "      <th>No</th>\n",
       "      <th>Runs</th>\n",
       "      <th>HS</th>\n",
       "      <th>Average</th>\n",
       "      <th>BF</th>\n",
       "      <th>SR</th>\n",
       "      <th>100</th>\n",
       "      <th>50</th>\n",
       "      <th>4</th>\n",
       "      <th>6</th>\n",
       "      <th>season</th>\n",
       "    </tr>\n",
       "  </thead>\n",
       "  <tbody>\n",
       "    <tr>\n",
       "      <th>1032</th>\n",
       "      <td>1032</td>\n",
       "      <td>Virat Kohli</td>\n",
       "      <td>16</td>\n",
       "      <td>16</td>\n",
       "      <td>4</td>\n",
       "      <td>973</td>\n",
       "      <td>113</td>\n",
       "      <td>81.08</td>\n",
       "      <td>640</td>\n",
       "      <td>152.03</td>\n",
       "      <td>4</td>\n",
       "      <td>7</td>\n",
       "      <td>83</td>\n",
       "      <td>38</td>\n",
       "      <td>2016</td>\n",
       "    </tr>\n",
       "  </tbody>\n",
       "</table>\n",
       "</div>"
      ],
      "text/plain": [
       "      Unnamed: 0       Player  matches  innings  No  Runs   HS  Average   BF  \\\n",
       "1032        1032  Virat Kohli       16       16   4   973  113    81.08  640   \n",
       "\n",
       "          SR  100  50   4   6  season  \n",
       "1032  152.03    4   7  83  38    2016  "
      ]
     },
     "execution_count": 27,
     "metadata": {},
     "output_type": "execute_result"
    }
   ],
   "source": [
    "df_final[df_final['Runs']==max(df_final['Runs'])]"
   ]
  },
  {
   "cell_type": "markdown",
   "metadata": {},
   "source": [
    "# Univariate Analysis for High score:"
   ]
  },
  {
   "cell_type": "code",
   "execution_count": 28,
   "metadata": {},
   "outputs": [
    {
     "data": {
      "text/plain": [
       "count    1677.000000\n",
       "mean       37.703041\n",
       "std        29.812922\n",
       "min         0.000000\n",
       "25%        12.000000\n",
       "50%        30.000000\n",
       "75%        60.000000\n",
       "max       175.000000\n",
       "Name: HS, dtype: float64"
      ]
     },
     "execution_count": 28,
     "metadata": {},
     "output_type": "execute_result"
    }
   ],
   "source": [
    "df_final['HS'].describe()"
   ]
  },
  {
   "cell_type": "markdown",
   "metadata": {},
   "source": [
    "# Player who has scored the highest score"
   ]
  },
  {
   "cell_type": "code",
   "execution_count": 29,
   "metadata": {},
   "outputs": [
    {
     "data": {
      "text/html": [
       "<div>\n",
       "<style scoped>\n",
       "    .dataframe tbody tr th:only-of-type {\n",
       "        vertical-align: middle;\n",
       "    }\n",
       "\n",
       "    .dataframe tbody tr th {\n",
       "        vertical-align: top;\n",
       "    }\n",
       "\n",
       "    .dataframe thead th {\n",
       "        text-align: right;\n",
       "    }\n",
       "</style>\n",
       "<table border=\"1\" class=\"dataframe\">\n",
       "  <thead>\n",
       "    <tr style=\"text-align: right;\">\n",
       "      <th></th>\n",
       "      <th>Unnamed: 0</th>\n",
       "      <th>Player</th>\n",
       "      <th>matches</th>\n",
       "      <th>innings</th>\n",
       "      <th>No</th>\n",
       "      <th>Runs</th>\n",
       "      <th>HS</th>\n",
       "      <th>Average</th>\n",
       "      <th>BF</th>\n",
       "      <th>SR</th>\n",
       "      <th>100</th>\n",
       "      <th>50</th>\n",
       "      <th>4</th>\n",
       "      <th>6</th>\n",
       "      <th>season</th>\n",
       "    </tr>\n",
       "  </thead>\n",
       "  <tbody>\n",
       "    <tr>\n",
       "      <th>646</th>\n",
       "      <td>646</td>\n",
       "      <td>Chris Gayle</td>\n",
       "      <td>16</td>\n",
       "      <td>16</td>\n",
       "      <td>4</td>\n",
       "      <td>708</td>\n",
       "      <td>175</td>\n",
       "      <td>59.0</td>\n",
       "      <td>453</td>\n",
       "      <td>156.29</td>\n",
       "      <td>1</td>\n",
       "      <td>4</td>\n",
       "      <td>57</td>\n",
       "      <td>51</td>\n",
       "      <td>2013</td>\n",
       "    </tr>\n",
       "  </tbody>\n",
       "</table>\n",
       "</div>"
      ],
      "text/plain": [
       "     Unnamed: 0       Player  matches  innings  No  Runs   HS  Average   BF  \\\n",
       "646         646  Chris Gayle       16       16   4   708  175     59.0  453   \n",
       "\n",
       "         SR  100  50   4   6  season  \n",
       "646  156.29    1   4  57  51    2013  "
      ]
     },
     "execution_count": 29,
     "metadata": {},
     "output_type": "execute_result"
    }
   ],
   "source": [
    "df_final[df_final['HS']==max(df_final['HS'])]"
   ]
  },
  {
   "cell_type": "markdown",
   "metadata": {},
   "source": [
    "# Univariate Analysis for Average score:"
   ]
  },
  {
   "cell_type": "code",
   "execution_count": 30,
   "metadata": {},
   "outputs": [
    {
     "data": {
      "text/plain": [
       "count    1677.000000\n",
       "mean       19.911604\n",
       "std        15.084900\n",
       "min         0.000000\n",
       "25%         8.420000\n",
       "50%        18.000000\n",
       "75%        28.440000\n",
       "max       152.000000\n",
       "Name: Average, dtype: float64"
      ]
     },
     "execution_count": 30,
     "metadata": {},
     "output_type": "execute_result"
    }
   ],
   "source": [
    "df_final['Average'].describe()"
   ]
  },
  {
   "cell_type": "markdown",
   "metadata": {},
   "source": [
    "# Player whose average score is the highest"
   ]
  },
  {
   "cell_type": "code",
   "execution_count": 31,
   "metadata": {},
   "outputs": [
    {
     "data": {
      "text/html": [
       "<div>\n",
       "<style scoped>\n",
       "    .dataframe tbody tr th:only-of-type {\n",
       "        vertical-align: middle;\n",
       "    }\n",
       "\n",
       "    .dataframe tbody tr th {\n",
       "        vertical-align: top;\n",
       "    }\n",
       "\n",
       "    .dataframe thead th {\n",
       "        text-align: right;\n",
       "    }\n",
       "</style>\n",
       "<table border=\"1\" class=\"dataframe\">\n",
       "  <thead>\n",
       "    <tr style=\"text-align: right;\">\n",
       "      <th></th>\n",
       "      <th>Unnamed: 0</th>\n",
       "      <th>Player</th>\n",
       "      <th>matches</th>\n",
       "      <th>innings</th>\n",
       "      <th>No</th>\n",
       "      <th>Runs</th>\n",
       "      <th>HS</th>\n",
       "      <th>Average</th>\n",
       "      <th>BF</th>\n",
       "      <th>SR</th>\n",
       "      <th>100</th>\n",
       "      <th>50</th>\n",
       "      <th>4</th>\n",
       "      <th>6</th>\n",
       "      <th>season</th>\n",
       "    </tr>\n",
       "  </thead>\n",
       "  <tbody>\n",
       "    <tr>\n",
       "      <th>42</th>\n",
       "      <td>42</td>\n",
       "      <td>Luke Pomersbach</td>\n",
       "      <td>5</td>\n",
       "      <td>5</td>\n",
       "      <td>4</td>\n",
       "      <td>152</td>\n",
       "      <td>79</td>\n",
       "      <td>152.0</td>\n",
       "      <td>99</td>\n",
       "      <td>153.53</td>\n",
       "      <td>0</td>\n",
       "      <td>1</td>\n",
       "      <td>13</td>\n",
       "      <td>9</td>\n",
       "      <td>2008</td>\n",
       "    </tr>\n",
       "  </tbody>\n",
       "</table>\n",
       "</div>"
      ],
      "text/plain": [
       "    Unnamed: 0           Player  matches  innings  No  Runs  HS  Average  BF  \\\n",
       "42          42  Luke Pomersbach        5        5   4   152  79    152.0  99   \n",
       "\n",
       "        SR  100  50   4  6  season  \n",
       "42  153.53    0   1  13  9    2008  "
      ]
     },
     "execution_count": 31,
     "metadata": {},
     "output_type": "execute_result"
    }
   ],
   "source": [
    "df_final[df_final['Average']==max(df_final['Average'])]"
   ]
  },
  {
   "cell_type": "markdown",
   "metadata": {},
   "source": [
    "# Univariate Analysis for Ball faced:"
   ]
  },
  {
   "cell_type": "code",
   "execution_count": 32,
   "metadata": {},
   "outputs": [
    {
     "data": {
      "text/plain": [
       "count    1677.000000\n",
       "mean      110.067979\n",
       "std       114.917980\n",
       "min         1.000000\n",
       "25%        18.000000\n",
       "50%        62.000000\n",
       "75%       175.000000\n",
       "max       640.000000\n",
       "Name: BF, dtype: float64"
      ]
     },
     "execution_count": 32,
     "metadata": {},
     "output_type": "execute_result"
    }
   ],
   "source": [
    "df_final['BF'].describe()"
   ]
  },
  {
   "cell_type": "markdown",
   "metadata": {},
   "source": [
    "# Player who has faced the highest balls"
   ]
  },
  {
   "cell_type": "code",
   "execution_count": 33,
   "metadata": {},
   "outputs": [
    {
     "data": {
      "text/html": [
       "<div>\n",
       "<style scoped>\n",
       "    .dataframe tbody tr th:only-of-type {\n",
       "        vertical-align: middle;\n",
       "    }\n",
       "\n",
       "    .dataframe tbody tr th {\n",
       "        vertical-align: top;\n",
       "    }\n",
       "\n",
       "    .dataframe thead th {\n",
       "        text-align: right;\n",
       "    }\n",
       "</style>\n",
       "<table border=\"1\" class=\"dataframe\">\n",
       "  <thead>\n",
       "    <tr style=\"text-align: right;\">\n",
       "      <th></th>\n",
       "      <th>Unnamed: 0</th>\n",
       "      <th>Player</th>\n",
       "      <th>matches</th>\n",
       "      <th>innings</th>\n",
       "      <th>No</th>\n",
       "      <th>Runs</th>\n",
       "      <th>HS</th>\n",
       "      <th>Average</th>\n",
       "      <th>BF</th>\n",
       "      <th>SR</th>\n",
       "      <th>100</th>\n",
       "      <th>50</th>\n",
       "      <th>4</th>\n",
       "      <th>6</th>\n",
       "      <th>season</th>\n",
       "    </tr>\n",
       "  </thead>\n",
       "  <tbody>\n",
       "    <tr>\n",
       "      <th>1032</th>\n",
       "      <td>1032</td>\n",
       "      <td>Virat Kohli</td>\n",
       "      <td>16</td>\n",
       "      <td>16</td>\n",
       "      <td>4</td>\n",
       "      <td>973</td>\n",
       "      <td>113</td>\n",
       "      <td>81.08</td>\n",
       "      <td>640</td>\n",
       "      <td>152.03</td>\n",
       "      <td>4</td>\n",
       "      <td>7</td>\n",
       "      <td>83</td>\n",
       "      <td>38</td>\n",
       "      <td>2016</td>\n",
       "    </tr>\n",
       "  </tbody>\n",
       "</table>\n",
       "</div>"
      ],
      "text/plain": [
       "      Unnamed: 0       Player  matches  innings  No  Runs   HS  Average   BF  \\\n",
       "1032        1032  Virat Kohli       16       16   4   973  113    81.08  640   \n",
       "\n",
       "          SR  100  50   4   6  season  \n",
       "1032  152.03    4   7  83  38    2016  "
      ]
     },
     "execution_count": 33,
     "metadata": {},
     "output_type": "execute_result"
    }
   ],
   "source": [
    "df_final[df_final['BF']==max(df_final['BF'])]"
   ]
  },
  {
   "cell_type": "markdown",
   "metadata": {},
   "source": [
    "# Univariate Analysis for Strike rate:"
   ]
  },
  {
   "cell_type": "code",
   "execution_count": 34,
   "metadata": {},
   "outputs": [
    {
     "data": {
      "text/plain": [
       "count    1677.000000\n",
       "mean      116.033393\n",
       "std        37.757277\n",
       "min         0.000000\n",
       "25%        98.140000\n",
       "50%       118.260000\n",
       "75%       136.310000\n",
       "max       400.000000\n",
       "Name: SR, dtype: float64"
      ]
     },
     "execution_count": 34,
     "metadata": {},
     "output_type": "execute_result"
    }
   ],
   "source": [
    "df_final['SR'].describe()"
   ]
  },
  {
   "cell_type": "markdown",
   "metadata": {},
   "source": [
    "# Player who has the highest strike rate"
   ]
  },
  {
   "cell_type": "code",
   "execution_count": 35,
   "metadata": {},
   "outputs": [
    {
     "data": {
      "text/html": [
       "<div>\n",
       "<style scoped>\n",
       "    .dataframe tbody tr th:only-of-type {\n",
       "        vertical-align: middle;\n",
       "    }\n",
       "\n",
       "    .dataframe tbody tr th {\n",
       "        vertical-align: top;\n",
       "    }\n",
       "\n",
       "    .dataframe thead th {\n",
       "        text-align: right;\n",
       "    }\n",
       "</style>\n",
       "<table border=\"1\" class=\"dataframe\">\n",
       "  <thead>\n",
       "    <tr style=\"text-align: right;\">\n",
       "      <th></th>\n",
       "      <th>Unnamed: 0</th>\n",
       "      <th>Player</th>\n",
       "      <th>matches</th>\n",
       "      <th>innings</th>\n",
       "      <th>No</th>\n",
       "      <th>Runs</th>\n",
       "      <th>HS</th>\n",
       "      <th>Average</th>\n",
       "      <th>BF</th>\n",
       "      <th>SR</th>\n",
       "      <th>100</th>\n",
       "      <th>50</th>\n",
       "      <th>4</th>\n",
       "      <th>6</th>\n",
       "      <th>season</th>\n",
       "    </tr>\n",
       "  </thead>\n",
       "  <tbody>\n",
       "    <tr>\n",
       "      <th>883</th>\n",
       "      <td>883</td>\n",
       "      <td>Abu Nechim</td>\n",
       "      <td>4</td>\n",
       "      <td>1</td>\n",
       "      <td>1</td>\n",
       "      <td>4</td>\n",
       "      <td>4</td>\n",
       "      <td>0.0</td>\n",
       "      <td>1</td>\n",
       "      <td>400.0</td>\n",
       "      <td>0</td>\n",
       "      <td>0</td>\n",
       "      <td>1</td>\n",
       "      <td>0</td>\n",
       "      <td>2014</td>\n",
       "    </tr>\n",
       "  </tbody>\n",
       "</table>\n",
       "</div>"
      ],
      "text/plain": [
       "     Unnamed: 0      Player  matches  innings  No  Runs  HS  Average  BF  \\\n",
       "883         883  Abu Nechim        4        1   1     4   4      0.0   1   \n",
       "\n",
       "        SR  100  50  4  6  season  \n",
       "883  400.0    0   0  1  0    2014  "
      ]
     },
     "execution_count": 35,
     "metadata": {},
     "output_type": "execute_result"
    }
   ],
   "source": [
    "df_final[df_final['SR']==max(df_final['SR'])]"
   ]
  },
  {
   "cell_type": "markdown",
   "metadata": {},
   "source": [
    "# Univariate Analysis for 100s:"
   ]
  },
  {
   "cell_type": "code",
   "execution_count": 36,
   "metadata": {},
   "outputs": [
    {
     "data": {
      "text/plain": [
       "count    1677.000000\n",
       "mean        0.036374\n",
       "std         0.214038\n",
       "min         0.000000\n",
       "25%         0.000000\n",
       "50%         0.000000\n",
       "75%         0.000000\n",
       "max         4.000000\n",
       "Name: 100, dtype: float64"
      ]
     },
     "execution_count": 36,
     "metadata": {},
     "output_type": "execute_result"
    }
   ],
   "source": [
    "df_final['100'].describe()"
   ]
  },
  {
   "cell_type": "markdown",
   "metadata": {},
   "source": [
    "# Player who scored the highest 100s"
   ]
  },
  {
   "cell_type": "code",
   "execution_count": 37,
   "metadata": {},
   "outputs": [
    {
     "data": {
      "text/html": [
       "<div>\n",
       "<style scoped>\n",
       "    .dataframe tbody tr th:only-of-type {\n",
       "        vertical-align: middle;\n",
       "    }\n",
       "\n",
       "    .dataframe tbody tr th {\n",
       "        vertical-align: top;\n",
       "    }\n",
       "\n",
       "    .dataframe thead th {\n",
       "        text-align: right;\n",
       "    }\n",
       "</style>\n",
       "<table border=\"1\" class=\"dataframe\">\n",
       "  <thead>\n",
       "    <tr style=\"text-align: right;\">\n",
       "      <th></th>\n",
       "      <th>Unnamed: 0</th>\n",
       "      <th>Player</th>\n",
       "      <th>matches</th>\n",
       "      <th>innings</th>\n",
       "      <th>No</th>\n",
       "      <th>Runs</th>\n",
       "      <th>HS</th>\n",
       "      <th>Average</th>\n",
       "      <th>BF</th>\n",
       "      <th>SR</th>\n",
       "      <th>100</th>\n",
       "      <th>50</th>\n",
       "      <th>4</th>\n",
       "      <th>6</th>\n",
       "      <th>season</th>\n",
       "    </tr>\n",
       "  </thead>\n",
       "  <tbody>\n",
       "    <tr>\n",
       "      <th>1032</th>\n",
       "      <td>1032</td>\n",
       "      <td>Virat Kohli</td>\n",
       "      <td>16</td>\n",
       "      <td>16</td>\n",
       "      <td>4</td>\n",
       "      <td>973</td>\n",
       "      <td>113</td>\n",
       "      <td>81.08</td>\n",
       "      <td>640</td>\n",
       "      <td>152.03</td>\n",
       "      <td>4</td>\n",
       "      <td>7</td>\n",
       "      <td>83</td>\n",
       "      <td>38</td>\n",
       "      <td>2016</td>\n",
       "    </tr>\n",
       "  </tbody>\n",
       "</table>\n",
       "</div>"
      ],
      "text/plain": [
       "      Unnamed: 0       Player  matches  innings  No  Runs   HS  Average   BF  \\\n",
       "1032        1032  Virat Kohli       16       16   4   973  113    81.08  640   \n",
       "\n",
       "          SR  100  50   4   6  season  \n",
       "1032  152.03    4   7  83  38    2016  "
      ]
     },
     "execution_count": 37,
     "metadata": {},
     "output_type": "execute_result"
    }
   ],
   "source": [
    "df_final[df_final['100']==max(df_final['100'])]"
   ]
  },
  {
   "cell_type": "markdown",
   "metadata": {},
   "source": [
    "# Univariate Analysis for 50s:"
   ]
  },
  {
   "cell_type": "code",
   "execution_count": 38,
   "metadata": {},
   "outputs": [
    {
     "data": {
      "text/plain": [
       "count    1677.000000\n",
       "mean        0.714967\n",
       "std         1.290630\n",
       "min         0.000000\n",
       "25%         0.000000\n",
       "50%         0.000000\n",
       "75%         1.000000\n",
       "max         9.000000\n",
       "Name: 50, dtype: float64"
      ]
     },
     "execution_count": 38,
     "metadata": {},
     "output_type": "execute_result"
    }
   ],
   "source": [
    "df_final['50'].describe()"
   ]
  },
  {
   "cell_type": "markdown",
   "metadata": {},
   "source": [
    "# Player who scored the highest 50s"
   ]
  },
  {
   "cell_type": "code",
   "execution_count": 39,
   "metadata": {},
   "outputs": [
    {
     "data": {
      "text/html": [
       "<div>\n",
       "<style scoped>\n",
       "    .dataframe tbody tr th:only-of-type {\n",
       "        vertical-align: middle;\n",
       "    }\n",
       "\n",
       "    .dataframe tbody tr th {\n",
       "        vertical-align: top;\n",
       "    }\n",
       "\n",
       "    .dataframe thead th {\n",
       "        text-align: right;\n",
       "    }\n",
       "</style>\n",
       "<table border=\"1\" class=\"dataframe\">\n",
       "  <thead>\n",
       "    <tr style=\"text-align: right;\">\n",
       "      <th></th>\n",
       "      <th>Unnamed: 0</th>\n",
       "      <th>Player</th>\n",
       "      <th>matches</th>\n",
       "      <th>innings</th>\n",
       "      <th>No</th>\n",
       "      <th>Runs</th>\n",
       "      <th>HS</th>\n",
       "      <th>Average</th>\n",
       "      <th>BF</th>\n",
       "      <th>SR</th>\n",
       "      <th>100</th>\n",
       "      <th>50</th>\n",
       "      <th>4</th>\n",
       "      <th>6</th>\n",
       "      <th>season</th>\n",
       "    </tr>\n",
       "  </thead>\n",
       "  <tbody>\n",
       "    <tr>\n",
       "      <th>1033</th>\n",
       "      <td>1033</td>\n",
       "      <td>David Warner</td>\n",
       "      <td>17</td>\n",
       "      <td>17</td>\n",
       "      <td>3</td>\n",
       "      <td>848</td>\n",
       "      <td>93</td>\n",
       "      <td>60.57</td>\n",
       "      <td>560</td>\n",
       "      <td>151.42</td>\n",
       "      <td>0</td>\n",
       "      <td>9</td>\n",
       "      <td>88</td>\n",
       "      <td>31</td>\n",
       "      <td>2016</td>\n",
       "    </tr>\n",
       "  </tbody>\n",
       "</table>\n",
       "</div>"
      ],
      "text/plain": [
       "      Unnamed: 0        Player  matches  innings  No  Runs  HS  Average   BF  \\\n",
       "1033        1033  David Warner       17       17   3   848  93    60.57  560   \n",
       "\n",
       "          SR  100  50   4   6  season  \n",
       "1033  151.42    0   9  88  31    2016  "
      ]
     },
     "execution_count": 39,
     "metadata": {},
     "output_type": "execute_result"
    }
   ],
   "source": [
    "df_final[df_final['50']==max(df_final['50'])]"
   ]
  },
  {
   "cell_type": "markdown",
   "metadata": {},
   "source": [
    "# Univariate Analysis for fours:"
   ]
  },
  {
   "cell_type": "code",
   "execution_count": 40,
   "metadata": {},
   "outputs": [
    {
     "data": {
      "text/plain": [
       "count    1677.000000\n",
       "mean       12.852117\n",
       "std        15.652882\n",
       "min         0.000000\n",
       "25%         1.000000\n",
       "50%         6.000000\n",
       "75%        20.000000\n",
       "max        88.000000\n",
       "Name: 4, dtype: float64"
      ]
     },
     "execution_count": 40,
     "metadata": {},
     "output_type": "execute_result"
    }
   ],
   "source": [
    "df_final['4'].describe()"
   ]
  },
  {
   "cell_type": "markdown",
   "metadata": {},
   "source": [
    "# Player who has scored the highest 4s"
   ]
  },
  {
   "cell_type": "code",
   "execution_count": 41,
   "metadata": {},
   "outputs": [
    {
     "data": {
      "text/html": [
       "<div>\n",
       "<style scoped>\n",
       "    .dataframe tbody tr th:only-of-type {\n",
       "        vertical-align: middle;\n",
       "    }\n",
       "\n",
       "    .dataframe tbody tr th {\n",
       "        vertical-align: top;\n",
       "    }\n",
       "\n",
       "    .dataframe thead th {\n",
       "        text-align: right;\n",
       "    }\n",
       "</style>\n",
       "<table border=\"1\" class=\"dataframe\">\n",
       "  <thead>\n",
       "    <tr style=\"text-align: right;\">\n",
       "      <th></th>\n",
       "      <th>Unnamed: 0</th>\n",
       "      <th>Player</th>\n",
       "      <th>matches</th>\n",
       "      <th>innings</th>\n",
       "      <th>No</th>\n",
       "      <th>Runs</th>\n",
       "      <th>HS</th>\n",
       "      <th>Average</th>\n",
       "      <th>BF</th>\n",
       "      <th>SR</th>\n",
       "      <th>100</th>\n",
       "      <th>50</th>\n",
       "      <th>4</th>\n",
       "      <th>6</th>\n",
       "      <th>season</th>\n",
       "    </tr>\n",
       "  </thead>\n",
       "  <tbody>\n",
       "    <tr>\n",
       "      <th>1033</th>\n",
       "      <td>1033</td>\n",
       "      <td>David Warner</td>\n",
       "      <td>17</td>\n",
       "      <td>17</td>\n",
       "      <td>3</td>\n",
       "      <td>848</td>\n",
       "      <td>93</td>\n",
       "      <td>60.57</td>\n",
       "      <td>560</td>\n",
       "      <td>151.42</td>\n",
       "      <td>0</td>\n",
       "      <td>9</td>\n",
       "      <td>88</td>\n",
       "      <td>31</td>\n",
       "      <td>2016</td>\n",
       "    </tr>\n",
       "  </tbody>\n",
       "</table>\n",
       "</div>"
      ],
      "text/plain": [
       "      Unnamed: 0        Player  matches  innings  No  Runs  HS  Average   BF  \\\n",
       "1033        1033  David Warner       17       17   3   848  93    60.57  560   \n",
       "\n",
       "          SR  100  50   4   6  season  \n",
       "1033  151.42    0   9  88  31    2016  "
      ]
     },
     "execution_count": 41,
     "metadata": {},
     "output_type": "execute_result"
    }
   ],
   "source": [
    "df_final[df_final['4']==max(df_final['4'])]"
   ]
  },
  {
   "cell_type": "markdown",
   "metadata": {},
   "source": [
    "# Univariate Analysis for sixes:"
   ]
  },
  {
   "cell_type": "code",
   "execution_count": 42,
   "metadata": {},
   "outputs": [
    {
     "data": {
      "text/plain": [
       "count    1677.000000\n",
       "mean        5.160405\n",
       "std         6.950209\n",
       "min         0.000000\n",
       "25%         0.000000\n",
       "50%         2.000000\n",
       "75%         8.000000\n",
       "max        59.000000\n",
       "Name: 6, dtype: float64"
      ]
     },
     "execution_count": 42,
     "metadata": {},
     "output_type": "execute_result"
    }
   ],
   "source": [
    "df_final['6'].describe()"
   ]
  },
  {
   "cell_type": "markdown",
   "metadata": {},
   "source": [
    "# Player who has scored the highest 6s"
   ]
  },
  {
   "cell_type": "code",
   "execution_count": 43,
   "metadata": {},
   "outputs": [
    {
     "data": {
      "text/html": [
       "<div>\n",
       "<style scoped>\n",
       "    .dataframe tbody tr th:only-of-type {\n",
       "        vertical-align: middle;\n",
       "    }\n",
       "\n",
       "    .dataframe tbody tr th {\n",
       "        vertical-align: top;\n",
       "    }\n",
       "\n",
       "    .dataframe thead th {\n",
       "        text-align: right;\n",
       "    }\n",
       "</style>\n",
       "<table border=\"1\" class=\"dataframe\">\n",
       "  <thead>\n",
       "    <tr style=\"text-align: right;\">\n",
       "      <th></th>\n",
       "      <th>Unnamed: 0</th>\n",
       "      <th>Player</th>\n",
       "      <th>matches</th>\n",
       "      <th>innings</th>\n",
       "      <th>No</th>\n",
       "      <th>Runs</th>\n",
       "      <th>HS</th>\n",
       "      <th>Average</th>\n",
       "      <th>BF</th>\n",
       "      <th>SR</th>\n",
       "      <th>100</th>\n",
       "      <th>50</th>\n",
       "      <th>4</th>\n",
       "      <th>6</th>\n",
       "      <th>season</th>\n",
       "    </tr>\n",
       "  </thead>\n",
       "  <tbody>\n",
       "    <tr>\n",
       "      <th>516</th>\n",
       "      <td>516</td>\n",
       "      <td>Chris Gayle</td>\n",
       "      <td>15</td>\n",
       "      <td>14</td>\n",
       "      <td>2</td>\n",
       "      <td>733</td>\n",
       "      <td>128</td>\n",
       "      <td>61.08</td>\n",
       "      <td>456</td>\n",
       "      <td>160.74</td>\n",
       "      <td>1</td>\n",
       "      <td>7</td>\n",
       "      <td>46</td>\n",
       "      <td>59</td>\n",
       "      <td>2012</td>\n",
       "    </tr>\n",
       "  </tbody>\n",
       "</table>\n",
       "</div>"
      ],
      "text/plain": [
       "     Unnamed: 0       Player  matches  innings  No  Runs   HS  Average   BF  \\\n",
       "516         516  Chris Gayle       15       14   2   733  128    61.08  456   \n",
       "\n",
       "         SR  100  50   4   6  season  \n",
       "516  160.74    1   7  46  59    2012  "
      ]
     },
     "execution_count": 43,
     "metadata": {},
     "output_type": "execute_result"
    }
   ],
   "source": [
    "df_final[df_final['6']==max(df_final['6'])]"
   ]
  },
  {
   "cell_type": "markdown",
   "metadata": {},
   "source": [
    "# Bi-variate Analysis"
   ]
  },
  {
   "cell_type": "markdown",
   "metadata": {},
   "source": [
    "# Bivariate Analysis for matches:"
   ]
  },
  {
   "cell_type": "markdown",
   "metadata": {},
   "source": [
    "# Players who have played the highest matches "
   ]
  },
  {
   "cell_type": "code",
   "execution_count": 44,
   "metadata": {},
   "outputs": [
    {
     "data": {
      "text/plain": [
       "Player\n",
       "MS Dhoni           204\n",
       "Rohit Sharma       199\n",
       "Virat Kohli        193\n",
       "Suresh Raina       190\n",
       "Ravindra Jadeja    184\n",
       "Dinesh Karthik     182\n",
       "Shikhar Dhawan     181\n",
       "Robin Uthappa      177\n",
       "Kieron Pollard     169\n",
       "Ambati Rayudu      159\n",
       "Name: matches, dtype: int64"
      ]
     },
     "execution_count": 44,
     "metadata": {},
     "output_type": "execute_result"
    }
   ],
   "source": [
    "df_final.groupby('Player')['matches'].sum().sort_values(ascending = False)[:10]"
   ]
  },
  {
   "cell_type": "markdown",
   "metadata": {},
   "source": [
    "# Players who have played more than 15 matches in 2008"
   ]
  },
  {
   "cell_type": "code",
   "execution_count": 45,
   "metadata": {},
   "outputs": [
    {
     "data": {
      "text/html": [
       "<div>\n",
       "<style scoped>\n",
       "    .dataframe tbody tr th:only-of-type {\n",
       "        vertical-align: middle;\n",
       "    }\n",
       "\n",
       "    .dataframe tbody tr th {\n",
       "        vertical-align: top;\n",
       "    }\n",
       "\n",
       "    .dataframe thead th {\n",
       "        text-align: right;\n",
       "    }\n",
       "</style>\n",
       "<table border=\"1\" class=\"dataframe\">\n",
       "  <thead>\n",
       "    <tr style=\"text-align: right;\">\n",
       "      <th></th>\n",
       "      <th>Player</th>\n",
       "    </tr>\n",
       "  </thead>\n",
       "  <tbody>\n",
       "    <tr>\n",
       "      <th>6</th>\n",
       "      <td>Yusuf Pathan</td>\n",
       "    </tr>\n",
       "    <tr>\n",
       "      <th>7</th>\n",
       "      <td>Suresh Raina</td>\n",
       "    </tr>\n",
       "    <tr>\n",
       "      <th>8</th>\n",
       "      <td>MS Dhoni</td>\n",
       "    </tr>\n",
       "    <tr>\n",
       "      <th>28</th>\n",
       "      <td>Subramaniam Badrinath</td>\n",
       "    </tr>\n",
       "    <tr>\n",
       "      <th>34</th>\n",
       "      <td>Mohammad Kaif</td>\n",
       "    </tr>\n",
       "    <tr>\n",
       "      <th>82</th>\n",
       "      <td>Manpreet Gony</td>\n",
       "    </tr>\n",
       "  </tbody>\n",
       "</table>\n",
       "</div>"
      ],
      "text/plain": [
       "                   Player\n",
       "6            Yusuf Pathan\n",
       "7            Suresh Raina\n",
       "8                MS Dhoni\n",
       "28  Subramaniam Badrinath\n",
       "34          Mohammad Kaif\n",
       "82          Manpreet Gony"
      ]
     },
     "execution_count": 45,
     "metadata": {},
     "output_type": "execute_result"
    }
   ],
   "source": [
    "df_final[(df_final['matches']>15) & (df_final['season']==2008)][['Player']]"
   ]
  },
  {
   "cell_type": "markdown",
   "metadata": {},
   "source": [
    "# Bivariate Analysis for innings:"
   ]
  },
  {
   "cell_type": "markdown",
   "metadata": {},
   "source": [
    "# Players who have played the highest innings"
   ]
  },
  {
   "cell_type": "code",
   "execution_count": 46,
   "metadata": {},
   "outputs": [
    {
     "data": {
      "text/plain": [
       "Player\n",
       "Rohit Sharma      194\n",
       "Virat Kohli       185\n",
       "Suresh Raina      185\n",
       "Shikhar Dhawan    179\n",
       "MS Dhoni          178\n",
       "Robin Uthappa     170\n",
       "Dinesh Karthik    163\n",
       "Kieron Pollard    152\n",
       "Ambati Rayudu     148\n",
       "AB de Villiers    146\n",
       "Name: innings, dtype: int64"
      ]
     },
     "execution_count": 46,
     "metadata": {},
     "output_type": "execute_result"
    }
   ],
   "source": [
    "df_final.groupby('Player')['innings'].sum().sort_values(ascending = False)[:10]"
   ]
  },
  {
   "cell_type": "markdown",
   "metadata": {},
   "source": [
    "# Players who have played minimum 7 innings in season 2010"
   ]
  },
  {
   "cell_type": "code",
   "execution_count": 47,
   "metadata": {},
   "outputs": [
    {
     "data": {
      "text/html": [
       "<div>\n",
       "<style scoped>\n",
       "    .dataframe tbody tr th:only-of-type {\n",
       "        vertical-align: middle;\n",
       "    }\n",
       "\n",
       "    .dataframe tbody tr th {\n",
       "        vertical-align: top;\n",
       "    }\n",
       "\n",
       "    .dataframe thead th {\n",
       "        text-align: right;\n",
       "    }\n",
       "</style>\n",
       "<table border=\"1\" class=\"dataframe\">\n",
       "  <thead>\n",
       "    <tr style=\"text-align: right;\">\n",
       "      <th></th>\n",
       "      <th>Player</th>\n",
       "    </tr>\n",
       "  </thead>\n",
       "  <tbody>\n",
       "    <tr>\n",
       "      <th>258</th>\n",
       "      <td>Sachin Tendulkar</td>\n",
       "    </tr>\n",
       "    <tr>\n",
       "      <th>259</th>\n",
       "      <td>Jacques Kallis</td>\n",
       "    </tr>\n",
       "    <tr>\n",
       "      <th>260</th>\n",
       "      <td>Suresh Raina</td>\n",
       "    </tr>\n",
       "    <tr>\n",
       "      <th>261</th>\n",
       "      <td>Sourav Ganguly</td>\n",
       "    </tr>\n",
       "    <tr>\n",
       "      <th>262</th>\n",
       "      <td>Murali Vijay</td>\n",
       "    </tr>\n",
       "    <tr>\n",
       "      <th>263</th>\n",
       "      <td>Mahela Jayawardena</td>\n",
       "    </tr>\n",
       "    <tr>\n",
       "      <th>264</th>\n",
       "      <td>Andrew Symonds</td>\n",
       "    </tr>\n",
       "    <tr>\n",
       "      <th>265</th>\n",
       "      <td>Saurabh Tiwary</td>\n",
       "    </tr>\n",
       "    <tr>\n",
       "      <th>266</th>\n",
       "      <td>Rohit Sharma</td>\n",
       "    </tr>\n",
       "    <tr>\n",
       "      <th>267</th>\n",
       "      <td>Naman Ojha</td>\n",
       "    </tr>\n",
       "  </tbody>\n",
       "</table>\n",
       "</div>"
      ],
      "text/plain": [
       "                 Player\n",
       "258    Sachin Tendulkar\n",
       "259      Jacques Kallis\n",
       "260        Suresh Raina\n",
       "261      Sourav Ganguly\n",
       "262        Murali Vijay\n",
       "263  Mahela Jayawardena\n",
       "264      Andrew Symonds\n",
       "265      Saurabh Tiwary\n",
       "266        Rohit Sharma\n",
       "267          Naman Ojha"
      ]
     },
     "execution_count": 47,
     "metadata": {},
     "output_type": "execute_result"
    }
   ],
   "source": [
    "df_final[(df_final['innings']>7) & (df_final['season']==2010)][['Player']].head(10)"
   ]
  },
  {
   "cell_type": "markdown",
   "metadata": {},
   "source": [
    "# Bivariate Analysis for Not out:"
   ]
  },
  {
   "cell_type": "markdown",
   "metadata": {},
   "source": [
    "# Players who were not out least time"
   ]
  },
  {
   "cell_type": "code",
   "execution_count": 48,
   "metadata": {},
   "outputs": [
    {
     "data": {
      "text/plain": [
       "Player\n",
       "MS Dhoni           64\n",
       "Ravindra Jadeja    58\n",
       "Kieron Pollard     50\n",
       "Yusuf Pathan       40\n",
       "Harbhajan Singh    37\n",
       "AB de Villiers     34\n",
       "Dwayne Bravo       34\n",
       "Piyush Chawla      29\n",
       "Irfan Pathan       29\n",
       "Ambati Rayudu      29\n",
       "Virat Kohli        28\n",
       "Albie Morkel       28\n",
       "Hardik Pandya      27\n",
       "Suresh Raina       27\n",
       "Rohit Sharma       26\n",
       "Kedar Jadhav       25\n",
       "David Miller       25\n",
       "Manoj Tiwary       25\n",
       "Manish Pandey      25\n",
       "Dinesh Karthik     24\n",
       "Name: No, dtype: int64"
      ]
     },
     "execution_count": 48,
     "metadata": {},
     "output_type": "execute_result"
    }
   ],
   "source": [
    "df_final.groupby('Player')['No'].sum().sort_values(ascending = False)[:20]"
   ]
  },
  {
   "cell_type": "markdown",
   "metadata": {},
   "source": [
    "# Bivariate Analysis for runs:"
   ]
  },
  {
   "cell_type": "markdown",
   "metadata": {},
   "source": [
    "# Players who have scored the highest runs"
   ]
  },
  {
   "cell_type": "code",
   "execution_count": 49,
   "metadata": {},
   "outputs": [
    {
     "data": {
      "text/plain": [
       "Player\n",
       "Virat Kohli       5753\n",
       "Shikhar Dhawan    5327\n",
       "Rohit Sharma      5325\n",
       "David Warner      5286\n",
       "Suresh Raina      5083\n",
       "Chris Gayle       4597\n",
       "Robin Uthappa     4371\n",
       "MS Dhoni          4291\n",
       "AB de Villiers    4217\n",
       "Gautam Gambhir    3846\n",
       "Name: Runs, dtype: int64"
      ]
     },
     "execution_count": 49,
     "metadata": {},
     "output_type": "execute_result"
    }
   ],
   "source": [
    "df_final.groupby('Player')['Runs'].sum().sort_values(ascending = False)[:10]"
   ]
  },
  {
   "cell_type": "markdown",
   "metadata": {},
   "source": [
    "# Players who have scored more than 150 runs in 2012"
   ]
  },
  {
   "cell_type": "code",
   "execution_count": 50,
   "metadata": {},
   "outputs": [
    {
     "data": {
      "text/plain": [
       "516        Chris Gayle\n",
       "517     Gautam Gambhir\n",
       "518     Shikhar Dhawan\n",
       "519     Ajinkya Rahane\n",
       "520    Virender Sehwag\n",
       "521      Cameron White\n",
       "522       Rahul Dravid\n",
       "523       Suresh Raina\n",
       "524       Rohit Sharma\n",
       "525      Mandeep Singh\n",
       "Name: Player, dtype: object"
      ]
     },
     "execution_count": 50,
     "metadata": {},
     "output_type": "execute_result"
    }
   ],
   "source": [
    "df_final[(df_final['Runs']>150) & (df_final['season']==2012)]['Player'].head(10)"
   ]
  },
  {
   "cell_type": "markdown",
   "metadata": {},
   "source": [
    "# Bivariate Analysis for highest score:"
   ]
  },
  {
   "cell_type": "markdown",
   "metadata": {},
   "source": [
    "# Players who have scored the highest score"
   ]
  },
  {
   "cell_type": "code",
   "execution_count": 51,
   "metadata": {},
   "outputs": [
    {
     "data": {
      "text/plain": [
       "Player\n",
       "Chris Gayle       1102\n",
       "David Warner      1012\n",
       "Rohit Sharma       995\n",
       "Shikhar Dhawan     992\n",
       "Virat Kohli        983\n",
       "AB de Villiers     935\n",
       "Suresh Raina       903\n",
       "Robin Uthappa      864\n",
       "Manish Pandey      863\n",
       "Shane Watson       810\n",
       "Name: HS, dtype: int64"
      ]
     },
     "execution_count": 51,
     "metadata": {},
     "output_type": "execute_result"
    }
   ],
   "source": [
    "df_final.groupby('Player')['HS'].sum().sort_values(ascending = False)[:10]"
   ]
  },
  {
   "cell_type": "markdown",
   "metadata": {},
   "source": [
    "# Players whose highest score is more than 90  in 2014"
   ]
  },
  {
   "cell_type": "code",
   "execution_count": 52,
   "metadata": {},
   "outputs": [
    {
     "data": {
      "text/plain": [
       "776      Glenn Maxwell\n",
       "779    Virender Sehwag\n",
       "783      Manish Pandey\n",
       "785      Lendl Simmons\n",
       "790    Wriddhiman Saha\n",
       "804     Corey Anderson\n",
       "Name: Player, dtype: object"
      ]
     },
     "execution_count": 52,
     "metadata": {},
     "output_type": "execute_result"
    }
   ],
   "source": [
    "df_final[(df_final['HS']>90) & (df_final['season']==2014)]['Player'].head(10)"
   ]
  },
  {
   "cell_type": "markdown",
   "metadata": {},
   "source": [
    "# Bivariate Analysis for average:"
   ]
  },
  {
   "cell_type": "markdown",
   "metadata": {},
   "source": [
    "# Players who have the highest average"
   ]
  },
  {
   "cell_type": "code",
   "execution_count": 53,
   "metadata": {},
   "outputs": [
    {
     "data": {
      "text/plain": [
       "Player\n",
       "MS Dhoni           526.67\n",
       "Virat Kohli        474.76\n",
       "David Warner       464.00\n",
       "Chris Gayle        459.58\n",
       "Shikhar Dhawan     439.23\n",
       "Manish Pandey      431.30\n",
       "AB de Villiers     428.65\n",
       "Rohit Sharma       415.09\n",
       "Suresh Raina       391.45\n",
       "Ravindra Jadeja    384.72\n",
       "Name: Average, dtype: float64"
      ]
     },
     "execution_count": 53,
     "metadata": {},
     "output_type": "execute_result"
    }
   ],
   "source": [
    "df_final.groupby('Player')['Average'].sum().sort_values(ascending=False)[:10]"
   ]
  },
  {
   "cell_type": "markdown",
   "metadata": {},
   "source": [
    "# Players whose average is more than 30 in 2016"
   ]
  },
  {
   "cell_type": "code",
   "execution_count": 54,
   "metadata": {},
   "outputs": [
    {
     "data": {
      "text/plain": [
       "1032        Virat Kohli\n",
       "1033       David Warner\n",
       "1034     AB de Villiers\n",
       "1035     Shikhar Dhawan\n",
       "1036     Gautam Gambhir\n",
       "1037       Rohit Sharma\n",
       "1038     Ajinkya Rahane\n",
       "1039       Murali Vijay\n",
       "1040    Quinton de Kock\n",
       "1042           KL Rahul\n",
       "Name: Player, dtype: object"
      ]
     },
     "execution_count": 54,
     "metadata": {},
     "output_type": "execute_result"
    }
   ],
   "source": [
    "df_final[(df_final['Average']>30) & (df_final['season']==2016)]['Player'].head(10)"
   ]
  },
  {
   "cell_type": "markdown",
   "metadata": {},
   "source": [
    "# Bivariate Analysis for ball faced:"
   ]
  },
  {
   "cell_type": "markdown",
   "metadata": {},
   "source": [
    "# Players who have faced the highest balls"
   ]
  },
  {
   "cell_type": "code",
   "execution_count": 55,
   "metadata": {},
   "outputs": [
    {
     "data": {
      "text/plain": [
       "Player\n",
       "Virat Kohli       4454\n",
       "Shikhar Dhawan    4249\n",
       "Rohit Sharma      4088\n",
       "David Warner      3761\n",
       "Suresh Raina      3706\n",
       "Robin Uthappa     3363\n",
       "MS Dhoni          3192\n",
       "Chris Gayle       3081\n",
       "Gautam Gambhir    3038\n",
       "Ajinkya Rahane    2935\n",
       "Name: BF, dtype: int64"
      ]
     },
     "execution_count": 55,
     "metadata": {},
     "output_type": "execute_result"
    }
   ],
   "source": [
    "df_final.groupby('Player')['BF'].sum().sort_values(ascending = False)[:10]"
   ]
  },
  {
   "cell_type": "markdown",
   "metadata": {},
   "source": [
    "# Players who have faced more than 100 balls in 2020"
   ]
  },
  {
   "cell_type": "code",
   "execution_count": 56,
   "metadata": {},
   "outputs": [
    {
     "data": {
      "text/plain": [
       "1419            KL Rahul\n",
       "1420      Shikhar Dhawan\n",
       "1421        David Warner\n",
       "1422        Shreyas Iyer\n",
       "1423        Ishan Kishan\n",
       "1424     Quinton de Kock\n",
       "1425    Suryakumar Yadav\n",
       "1426    Devdutt Padikkal\n",
       "1427         Virat Kohli\n",
       "1428      AB de Villiers\n",
       "Name: Player, dtype: object"
      ]
     },
     "execution_count": 56,
     "metadata": {},
     "output_type": "execute_result"
    }
   ],
   "source": [
    "df_final[(df_final['BF']>100) & (df_final['season']==2020) ]['Player'].head(10)"
   ]
  },
  {
   "cell_type": "markdown",
   "metadata": {},
   "source": [
    "# Bivariate Analysis for strike rate:"
   ]
  },
  {
   "cell_type": "markdown",
   "metadata": {},
   "source": [
    "# Players who have the highest strike rate"
   ]
  },
  {
   "cell_type": "code",
   "execution_count": 57,
   "metadata": {},
   "outputs": [
    {
     "data": {
      "text/plain": [
       "Player\n",
       "Dwayne Bravo      1811.43\n",
       "AB de Villiers    1740.17\n",
       "MS Dhoni          1726.78\n",
       "Chris Gayle       1722.47\n",
       "Robin Uthappa     1692.66\n",
       "Rohit Sharma      1692.46\n",
       "Shikhar Dhawan    1677.71\n",
       "Kieron Pollard    1661.33\n",
       "Virat Kohli       1643.12\n",
       "Suresh Raina      1634.47\n",
       "Name: SR, dtype: float64"
      ]
     },
     "execution_count": 57,
     "metadata": {},
     "output_type": "execute_result"
    }
   ],
   "source": [
    "df_final.groupby('Player')['SR'].sum().sort_values(ascending = False)[:10]"
   ]
  },
  {
   "cell_type": "markdown",
   "metadata": {},
   "source": [
    "# Players whose strike rate is more than 100 in 2011"
   ]
  },
  {
   "cell_type": "code",
   "execution_count": 58,
   "metadata": {},
   "outputs": [
    {
     "data": {
      "text/plain": [
       "387         Chris Gayle\n",
       "388         Virat Kohli\n",
       "389    Sachin Tendulkar\n",
       "390         Shaun Marsh\n",
       "391      Michael Hussey\n",
       "392       Paul Valthaty\n",
       "393        Suresh Raina\n",
       "394        Murali Vijay\n",
       "395     Virender Sehwag\n",
       "396      Jacques Kallis\n",
       "Name: Player, dtype: object"
      ]
     },
     "execution_count": 58,
     "metadata": {},
     "output_type": "execute_result"
    }
   ],
   "source": [
    "df_final[(df_final['SR']>100) & (df_final['season']==2011) ]['Player'].head(10)"
   ]
  },
  {
   "cell_type": "markdown",
   "metadata": {},
   "source": [
    "# Bivariate Analysis for 100s:"
   ]
  },
  {
   "cell_type": "markdown",
   "metadata": {},
   "source": [
    "# Players who have scored the highest 100s"
   ]
  },
  {
   "cell_type": "code",
   "execution_count": 59,
   "metadata": {},
   "outputs": [
    {
     "data": {
      "text/plain": [
       "Player\n",
       "Virat Kohli       5\n",
       "Chris Gayle       5\n",
       "David Warner      4\n",
       "Sanju Samson      3\n",
       "AB de Villiers    2\n",
       "Hashim Amla       2\n",
       "Shikhar Dhawan    2\n",
       "Shane Watson      2\n",
       "Murali Vijay      2\n",
       "KL Rahul          2\n",
       "Name: 100, dtype: int64"
      ]
     },
     "execution_count": 59,
     "metadata": {},
     "output_type": "execute_result"
    }
   ],
   "source": [
    "df_final.groupby('Player')['100'].sum().sort_values(ascending = False)[:10]"
   ]
  },
  {
   "cell_type": "markdown",
   "metadata": {},
   "source": [
    "# Players who have scored one 100 in 2021"
   ]
  },
  {
   "cell_type": "code",
   "execution_count": 60,
   "metadata": {},
   "outputs": [
    {
     "data": {
      "text/plain": [
       "1548     Ruturaj Gaikwad\n",
       "1553        Sanju Samson\n",
       "1558    Devdutt Padikkal\n",
       "1571         Jos Buttler\n",
       "Name: Player, dtype: object"
      ]
     },
     "execution_count": 60,
     "metadata": {},
     "output_type": "execute_result"
    }
   ],
   "source": [
    "df_final[(df_final['100']==1) & (df_final['season']==2021) ]['Player'].head(10)"
   ]
  },
  {
   "cell_type": "markdown",
   "metadata": {},
   "source": [
    "# Bivariate Analysis for 50s:"
   ]
  },
  {
   "cell_type": "markdown",
   "metadata": {},
   "source": [
    "# Players who have scored the highest 50s"
   ]
  },
  {
   "cell_type": "code",
   "execution_count": 61,
   "metadata": {},
   "outputs": [
    {
     "data": {
      "text/plain": [
       "Player\n",
       "David Warner      49\n",
       "Shikhar Dhawan    40\n",
       "Virat Kohli       38\n",
       "Rohit Sharma      38\n",
       "Suresh Raina      35\n",
       "Gautam Gambhir    34\n",
       "AB de Villiers    31\n",
       "Chris Gayle       28\n",
       "Ajinkya Rahane    27\n",
       "Robin Uthappa     24\n",
       "Name: 50, dtype: int64"
      ]
     },
     "execution_count": 61,
     "metadata": {},
     "output_type": "execute_result"
    }
   ],
   "source": [
    "df_final.groupby('Player')['50'].sum().sort_values(ascending = False)[:10]"
   ]
  },
  {
   "cell_type": "markdown",
   "metadata": {},
   "source": [
    "# Players who have scored more than five fifties in 2015"
   ]
  },
  {
   "cell_type": "code",
   "execution_count": 62,
   "metadata": {},
   "outputs": [
    {
     "data": {
      "text/plain": [
       "903     David Warner\n",
       "904    Lendl Simmons\n",
       "Name: Player, dtype: object"
      ]
     },
     "execution_count": 62,
     "metadata": {},
     "output_type": "execute_result"
    }
   ],
   "source": [
    "df_final[(df_final['50']>5) & (df_final['season']==2015) ]['Player'].head(10)"
   ]
  },
  {
   "cell_type": "markdown",
   "metadata": {},
   "source": [
    "# Bivariate Analysis for 4s:"
   ]
  },
  {
   "cell_type": "markdown",
   "metadata": {},
   "source": [
    "# Player who have scored the highest 4s"
   ]
  },
  {
   "cell_type": "code",
   "execution_count": 63,
   "metadata": {},
   "outputs": [
    {
     "data": {
      "text/plain": [
       "Player\n",
       "Shikhar Dhawan    598\n",
       "David Warner      509\n",
       "Virat Kohli       494\n",
       "Rohit Sharma      466\n",
       "Suresh Raina      460\n",
       "Gautam Gambhir    451\n",
       "Robin Uthappa     432\n",
       "Ajinkya Rahane    378\n",
       "Chris Gayle       375\n",
       "Parthiv Patel     345\n",
       "Name: 4, dtype: int64"
      ]
     },
     "execution_count": 63,
     "metadata": {},
     "output_type": "execute_result"
    }
   ],
   "source": [
    "df_final.groupby('Player')['4'].sum().sort_values(ascending = False)[:10]"
   ]
  },
  {
   "cell_type": "markdown",
   "metadata": {},
   "source": [
    "# Players who have scored more than 50 fours in 2019"
   ]
  },
  {
   "cell_type": "code",
   "execution_count": 64,
   "metadata": {},
   "outputs": [
    {
     "data": {
      "text/plain": [
       "1290      David Warner\n",
       "1293    Shikhar Dhawan\n",
       "1304      Rohit Sharma\n",
       "Name: Player, dtype: object"
      ]
     },
     "execution_count": 64,
     "metadata": {},
     "output_type": "execute_result"
    }
   ],
   "source": [
    "df_final[(df_final['4']>50) & (df_final['season']==2019) ]['Player'].head(10)"
   ]
  },
  {
   "cell_type": "markdown",
   "metadata": {},
   "source": [
    "# Bivariate Analysis for 6s:"
   ]
  },
  {
   "cell_type": "markdown",
   "metadata": {},
   "source": [
    "# Players who have scored the highest 6s"
   ]
  },
  {
   "cell_type": "code",
   "execution_count": 65,
   "metadata": {},
   "outputs": [
    {
     "data": {
      "text/plain": [
       "Player\n",
       "Chris Gayle       330\n",
       "Rohit Sharma      215\n",
       "AB de Villiers    209\n",
       "Kieron Pollard    207\n",
       "David Warner      196\n",
       "Virat Kohli       192\n",
       "Suresh Raina      191\n",
       "MS Dhoni          189\n",
       "Shane Watson      155\n",
       "Yusuf Pathan      147\n",
       "Name: 6, dtype: int64"
      ]
     },
     "execution_count": 65,
     "metadata": {},
     "output_type": "execute_result"
    }
   ],
   "source": [
    "df_final.groupby('Player')['6'].sum().sort_values(ascending = False)[:10]"
   ]
  },
  {
   "cell_type": "markdown",
   "metadata": {},
   "source": [
    "# Players who have scored more than 20 sixes in 2017"
   ]
  },
  {
   "cell_type": "code",
   "execution_count": 66,
   "metadata": {},
   "outputs": [
    {
     "data": {
      "text/plain": [
       "1161      David Warner\n",
       "1170     Robin Uthappa\n",
       "1172    Kieron Pollard\n",
       "1174      Rishabh Pant\n",
       "1182     Glenn Maxwell\n",
       "Name: Player, dtype: object"
      ]
     },
     "execution_count": 66,
     "metadata": {},
     "output_type": "execute_result"
    }
   ],
   "source": [
    "df_final[(df_final['6']>20) & (df_final['season']==2017) ]['Player'].head(10)"
   ]
  },
  {
   "cell_type": "markdown",
   "metadata": {},
   "source": [
    "# Multi-variate Analysis"
   ]
  },
  {
   "cell_type": "markdown",
   "metadata": {},
   "source": [
    "# Players who have scored maximum runs and remain not out most number of times"
   ]
  },
  {
   "cell_type": "code",
   "execution_count": 67,
   "metadata": {},
   "outputs": [
    {
     "data": {
      "text/html": [
       "<div>\n",
       "<style scoped>\n",
       "    .dataframe tbody tr th:only-of-type {\n",
       "        vertical-align: middle;\n",
       "    }\n",
       "\n",
       "    .dataframe tbody tr th {\n",
       "        vertical-align: top;\n",
       "    }\n",
       "\n",
       "    .dataframe thead th {\n",
       "        text-align: right;\n",
       "    }\n",
       "</style>\n",
       "<table border=\"1\" class=\"dataframe\">\n",
       "  <thead>\n",
       "    <tr style=\"text-align: right;\">\n",
       "      <th></th>\n",
       "      <th>No</th>\n",
       "      <th>Runs</th>\n",
       "    </tr>\n",
       "    <tr>\n",
       "      <th>Player</th>\n",
       "      <th></th>\n",
       "      <th></th>\n",
       "    </tr>\n",
       "  </thead>\n",
       "  <tbody>\n",
       "    <tr>\n",
       "      <th>Virat Kohli</th>\n",
       "      <td>28</td>\n",
       "      <td>5753</td>\n",
       "    </tr>\n",
       "    <tr>\n",
       "      <th>Shikhar Dhawan</th>\n",
       "      <td>22</td>\n",
       "      <td>5327</td>\n",
       "    </tr>\n",
       "    <tr>\n",
       "      <th>Rohit Sharma</th>\n",
       "      <td>26</td>\n",
       "      <td>5325</td>\n",
       "    </tr>\n",
       "    <tr>\n",
       "      <th>David Warner</th>\n",
       "      <td>19</td>\n",
       "      <td>5286</td>\n",
       "    </tr>\n",
       "    <tr>\n",
       "      <th>Suresh Raina</th>\n",
       "      <td>27</td>\n",
       "      <td>5083</td>\n",
       "    </tr>\n",
       "    <tr>\n",
       "      <th>Chris Gayle</th>\n",
       "      <td>14</td>\n",
       "      <td>4597</td>\n",
       "    </tr>\n",
       "    <tr>\n",
       "      <th>Robin Uthappa</th>\n",
       "      <td>17</td>\n",
       "      <td>4371</td>\n",
       "    </tr>\n",
       "    <tr>\n",
       "      <th>MS Dhoni</th>\n",
       "      <td>64</td>\n",
       "      <td>4291</td>\n",
       "    </tr>\n",
       "    <tr>\n",
       "      <th>AB de Villiers</th>\n",
       "      <td>34</td>\n",
       "      <td>4217</td>\n",
       "    </tr>\n",
       "    <tr>\n",
       "      <th>Gautam Gambhir</th>\n",
       "      <td>15</td>\n",
       "      <td>3846</td>\n",
       "    </tr>\n",
       "  </tbody>\n",
       "</table>\n",
       "</div>"
      ],
      "text/plain": [
       "                No  Runs\n",
       "Player                  \n",
       "Virat Kohli     28  5753\n",
       "Shikhar Dhawan  22  5327\n",
       "Rohit Sharma    26  5325\n",
       "David Warner    19  5286\n",
       "Suresh Raina    27  5083\n",
       "Chris Gayle     14  4597\n",
       "Robin Uthappa   17  4371\n",
       "MS Dhoni        64  4291\n",
       "AB de Villiers  34  4217\n",
       "Gautam Gambhir  15  3846"
      ]
     },
     "execution_count": 67,
     "metadata": {},
     "output_type": "execute_result"
    }
   ],
   "source": [
    "df_final.pivot_table(values=['Runs','No'],index=['Player'],aggfunc='sum').sort_values(by = ['Runs'],ascending = False)[:10]"
   ]
  },
  {
   "cell_type": "markdown",
   "metadata": {},
   "source": [
    "# Players with the highest runs and strike rate"
   ]
  },
  {
   "cell_type": "code",
   "execution_count": 68,
   "metadata": {},
   "outputs": [
    {
     "data": {
      "text/html": [
       "<div>\n",
       "<style scoped>\n",
       "    .dataframe tbody tr th:only-of-type {\n",
       "        vertical-align: middle;\n",
       "    }\n",
       "\n",
       "    .dataframe tbody tr th {\n",
       "        vertical-align: top;\n",
       "    }\n",
       "\n",
       "    .dataframe thead th {\n",
       "        text-align: right;\n",
       "    }\n",
       "</style>\n",
       "<table border=\"1\" class=\"dataframe\">\n",
       "  <thead>\n",
       "    <tr style=\"text-align: right;\">\n",
       "      <th></th>\n",
       "      <th>Runs</th>\n",
       "      <th>SR</th>\n",
       "    </tr>\n",
       "    <tr>\n",
       "      <th>Player</th>\n",
       "      <th></th>\n",
       "      <th></th>\n",
       "    </tr>\n",
       "  </thead>\n",
       "  <tbody>\n",
       "    <tr>\n",
       "      <th>David Warner</th>\n",
       "      <td>480.545455</td>\n",
       "      <td>139.350909</td>\n",
       "    </tr>\n",
       "    <tr>\n",
       "      <th>Virat Kohli</th>\n",
       "      <td>442.538462</td>\n",
       "      <td>126.393846</td>\n",
       "    </tr>\n",
       "    <tr>\n",
       "      <th>Devdutt Padikkal</th>\n",
       "      <td>442.000000</td>\n",
       "      <td>125.050000</td>\n",
       "    </tr>\n",
       "    <tr>\n",
       "      <th>Gautam Gambhir</th>\n",
       "      <td>427.333333</td>\n",
       "      <td>125.726667</td>\n",
       "    </tr>\n",
       "    <tr>\n",
       "      <th>Suresh Raina</th>\n",
       "      <td>423.583333</td>\n",
       "      <td>136.205833</td>\n",
       "    </tr>\n",
       "    <tr>\n",
       "      <th>Ruturaj Gaikwad</th>\n",
       "      <td>419.500000</td>\n",
       "      <td>128.485000</td>\n",
       "    </tr>\n",
       "    <tr>\n",
       "      <th>Rohit Sharma</th>\n",
       "      <td>409.615385</td>\n",
       "      <td>130.189231</td>\n",
       "    </tr>\n",
       "    <tr>\n",
       "      <th>Shubman Gill</th>\n",
       "      <td>404.666667</td>\n",
       "      <td>120.406667</td>\n",
       "    </tr>\n",
       "    <tr>\n",
       "      <th>Sachin Tendulkar</th>\n",
       "      <td>389.000000</td>\n",
       "      <td>118.496667</td>\n",
       "    </tr>\n",
       "    <tr>\n",
       "      <th>Chris Gayle</th>\n",
       "      <td>383.083333</td>\n",
       "      <td>143.539167</td>\n",
       "    </tr>\n",
       "  </tbody>\n",
       "</table>\n",
       "</div>"
      ],
      "text/plain": [
       "                        Runs          SR\n",
       "Player                                  \n",
       "David Warner      480.545455  139.350909\n",
       "Virat Kohli       442.538462  126.393846\n",
       "Devdutt Padikkal  442.000000  125.050000\n",
       "Gautam Gambhir    427.333333  125.726667\n",
       "Suresh Raina      423.583333  136.205833\n",
       "Ruturaj Gaikwad   419.500000  128.485000\n",
       "Rohit Sharma      409.615385  130.189231\n",
       "Shubman Gill      404.666667  120.406667\n",
       "Sachin Tendulkar  389.000000  118.496667\n",
       "Chris Gayle       383.083333  143.539167"
      ]
     },
     "execution_count": 68,
     "metadata": {},
     "output_type": "execute_result"
    }
   ],
   "source": [
    "df_final.pivot_table(values=['Runs','SR'],index=['Player'],aggfunc='mean').sort_values(by = 'Runs',ascending = False)[:10]"
   ]
  },
  {
   "cell_type": "markdown",
   "metadata": {},
   "source": [
    "# Players with the highest runs and average"
   ]
  },
  {
   "cell_type": "code",
   "execution_count": 69,
   "metadata": {},
   "outputs": [
    {
     "data": {
      "text/html": [
       "<div>\n",
       "<style scoped>\n",
       "    .dataframe tbody tr th:only-of-type {\n",
       "        vertical-align: middle;\n",
       "    }\n",
       "\n",
       "    .dataframe tbody tr th {\n",
       "        vertical-align: top;\n",
       "    }\n",
       "\n",
       "    .dataframe thead th {\n",
       "        text-align: right;\n",
       "    }\n",
       "</style>\n",
       "<table border=\"1\" class=\"dataframe\">\n",
       "  <thead>\n",
       "    <tr style=\"text-align: right;\">\n",
       "      <th></th>\n",
       "      <th>Average</th>\n",
       "      <th>Runs</th>\n",
       "    </tr>\n",
       "    <tr>\n",
       "      <th>Player</th>\n",
       "      <th></th>\n",
       "      <th></th>\n",
       "    </tr>\n",
       "  </thead>\n",
       "  <tbody>\n",
       "    <tr>\n",
       "      <th>David Warner</th>\n",
       "      <td>42.181818</td>\n",
       "      <td>480.545455</td>\n",
       "    </tr>\n",
       "    <tr>\n",
       "      <th>Virat Kohli</th>\n",
       "      <td>36.520000</td>\n",
       "      <td>442.538462</td>\n",
       "    </tr>\n",
       "    <tr>\n",
       "      <th>Devdutt Padikkal</th>\n",
       "      <td>31.570000</td>\n",
       "      <td>442.000000</td>\n",
       "    </tr>\n",
       "    <tr>\n",
       "      <th>Gautam Gambhir</th>\n",
       "      <td>33.156667</td>\n",
       "      <td>427.333333</td>\n",
       "    </tr>\n",
       "    <tr>\n",
       "      <th>Suresh Raina</th>\n",
       "      <td>32.620833</td>\n",
       "      <td>423.583333</td>\n",
       "    </tr>\n",
       "    <tr>\n",
       "      <th>Ruturaj Gaikwad</th>\n",
       "      <td>48.175000</td>\n",
       "      <td>419.500000</td>\n",
       "    </tr>\n",
       "    <tr>\n",
       "      <th>Rohit Sharma</th>\n",
       "      <td>31.930000</td>\n",
       "      <td>409.615385</td>\n",
       "    </tr>\n",
       "    <tr>\n",
       "      <th>Shubman Gill</th>\n",
       "      <td>31.610000</td>\n",
       "      <td>404.666667</td>\n",
       "    </tr>\n",
       "    <tr>\n",
       "      <th>Sachin Tendulkar</th>\n",
       "      <td>34.333333</td>\n",
       "      <td>389.000000</td>\n",
       "    </tr>\n",
       "    <tr>\n",
       "      <th>Chris Gayle</th>\n",
       "      <td>38.298333</td>\n",
       "      <td>383.083333</td>\n",
       "    </tr>\n",
       "  </tbody>\n",
       "</table>\n",
       "</div>"
      ],
      "text/plain": [
       "                    Average        Runs\n",
       "Player                                 \n",
       "David Warner      42.181818  480.545455\n",
       "Virat Kohli       36.520000  442.538462\n",
       "Devdutt Padikkal  31.570000  442.000000\n",
       "Gautam Gambhir    33.156667  427.333333\n",
       "Suresh Raina      32.620833  423.583333\n",
       "Ruturaj Gaikwad   48.175000  419.500000\n",
       "Rohit Sharma      31.930000  409.615385\n",
       "Shubman Gill      31.610000  404.666667\n",
       "Sachin Tendulkar  34.333333  389.000000\n",
       "Chris Gayle       38.298333  383.083333"
      ]
     },
     "execution_count": 69,
     "metadata": {},
     "output_type": "execute_result"
    }
   ],
   "source": [
    "df_final.pivot_table(values=['Runs','Average'],index=['Player'],aggfunc='mean').sort_values(by = 'Runs',ascending = False)[:10]"
   ]
  },
  {
   "cell_type": "markdown",
   "metadata": {},
   "source": [
    "# Top 10 Players with their 100s and 50s"
   ]
  },
  {
   "cell_type": "code",
   "execution_count": 70,
   "metadata": {},
   "outputs": [
    {
     "name": "stderr",
     "output_type": "stream",
     "text": [
      "C:\\Users\\Kushal Adhyaru\\anaconda3\\lib\\site-packages\\ipykernel_launcher.py:1: FutureWarning: Indexing with multiple keys (implicitly converted to a tuple of keys) will be deprecated, use a list instead.\n",
      "  \"\"\"Entry point for launching an IPython kernel.\n"
     ]
    },
    {
     "data": {
      "text/html": [
       "<div>\n",
       "<style scoped>\n",
       "    .dataframe tbody tr th:only-of-type {\n",
       "        vertical-align: middle;\n",
       "    }\n",
       "\n",
       "    .dataframe tbody tr th {\n",
       "        vertical-align: top;\n",
       "    }\n",
       "\n",
       "    .dataframe thead th {\n",
       "        text-align: right;\n",
       "    }\n",
       "</style>\n",
       "<table border=\"1\" class=\"dataframe\">\n",
       "  <thead>\n",
       "    <tr style=\"text-align: right;\">\n",
       "      <th></th>\n",
       "      <th>100</th>\n",
       "      <th>50</th>\n",
       "    </tr>\n",
       "    <tr>\n",
       "      <th>Player</th>\n",
       "      <th></th>\n",
       "      <th></th>\n",
       "    </tr>\n",
       "  </thead>\n",
       "  <tbody>\n",
       "    <tr>\n",
       "      <th>Virat Kohli</th>\n",
       "      <td>5</td>\n",
       "      <td>38</td>\n",
       "    </tr>\n",
       "    <tr>\n",
       "      <th>Chris Gayle</th>\n",
       "      <td>5</td>\n",
       "      <td>28</td>\n",
       "    </tr>\n",
       "    <tr>\n",
       "      <th>David Warner</th>\n",
       "      <td>4</td>\n",
       "      <td>49</td>\n",
       "    </tr>\n",
       "    <tr>\n",
       "      <th>Sanju Samson</th>\n",
       "      <td>3</td>\n",
       "      <td>12</td>\n",
       "    </tr>\n",
       "    <tr>\n",
       "      <th>Shikhar Dhawan</th>\n",
       "      <td>2</td>\n",
       "      <td>40</td>\n",
       "    </tr>\n",
       "    <tr>\n",
       "      <th>AB de Villiers</th>\n",
       "      <td>2</td>\n",
       "      <td>31</td>\n",
       "    </tr>\n",
       "    <tr>\n",
       "      <th>Ajinkya Rahane</th>\n",
       "      <td>2</td>\n",
       "      <td>27</td>\n",
       "    </tr>\n",
       "    <tr>\n",
       "      <th>KL Rahul</th>\n",
       "      <td>2</td>\n",
       "      <td>21</td>\n",
       "    </tr>\n",
       "    <tr>\n",
       "      <th>Shane Watson</th>\n",
       "      <td>2</td>\n",
       "      <td>19</td>\n",
       "    </tr>\n",
       "    <tr>\n",
       "      <th>Virender Sehwag</th>\n",
       "      <td>2</td>\n",
       "      <td>15</td>\n",
       "    </tr>\n",
       "  </tbody>\n",
       "</table>\n",
       "</div>"
      ],
      "text/plain": [
       "                 100  50\n",
       "Player                  \n",
       "Virat Kohli        5  38\n",
       "Chris Gayle        5  28\n",
       "David Warner       4  49\n",
       "Sanju Samson       3  12\n",
       "Shikhar Dhawan     2  40\n",
       "AB de Villiers     2  31\n",
       "Ajinkya Rahane     2  27\n",
       "KL Rahul           2  21\n",
       "Shane Watson       2  19\n",
       "Virender Sehwag    2  15"
      ]
     },
     "execution_count": 70,
     "metadata": {},
     "output_type": "execute_result"
    }
   ],
   "source": [
    "df_final.groupby(['Player'])['100','50'].sum().sort_values(by = ['100','50'],ascending = False)[:10]"
   ]
  },
  {
   "cell_type": "markdown",
   "metadata": {},
   "source": [
    "# Top 10 Players who have scored highest 4s and 6s"
   ]
  },
  {
   "cell_type": "code",
   "execution_count": 71,
   "metadata": {},
   "outputs": [
    {
     "name": "stderr",
     "output_type": "stream",
     "text": [
      "C:\\Users\\Kushal Adhyaru\\anaconda3\\lib\\site-packages\\ipykernel_launcher.py:1: FutureWarning: Indexing with multiple keys (implicitly converted to a tuple of keys) will be deprecated, use a list instead.\n",
      "  \"\"\"Entry point for launching an IPython kernel.\n"
     ]
    },
    {
     "data": {
      "text/html": [
       "<div>\n",
       "<style scoped>\n",
       "    .dataframe tbody tr th:only-of-type {\n",
       "        vertical-align: middle;\n",
       "    }\n",
       "\n",
       "    .dataframe tbody tr th {\n",
       "        vertical-align: top;\n",
       "    }\n",
       "\n",
       "    .dataframe thead th {\n",
       "        text-align: right;\n",
       "    }\n",
       "</style>\n",
       "<table border=\"1\" class=\"dataframe\">\n",
       "  <thead>\n",
       "    <tr style=\"text-align: right;\">\n",
       "      <th></th>\n",
       "      <th>4</th>\n",
       "      <th>6</th>\n",
       "    </tr>\n",
       "    <tr>\n",
       "      <th>Player</th>\n",
       "      <th></th>\n",
       "      <th></th>\n",
       "    </tr>\n",
       "  </thead>\n",
       "  <tbody>\n",
       "    <tr>\n",
       "      <th>Shikhar Dhawan</th>\n",
       "      <td>598</td>\n",
       "      <td>110</td>\n",
       "    </tr>\n",
       "    <tr>\n",
       "      <th>David Warner</th>\n",
       "      <td>509</td>\n",
       "      <td>196</td>\n",
       "    </tr>\n",
       "    <tr>\n",
       "      <th>Virat Kohli</th>\n",
       "      <td>494</td>\n",
       "      <td>192</td>\n",
       "    </tr>\n",
       "    <tr>\n",
       "      <th>Rohit Sharma</th>\n",
       "      <td>466</td>\n",
       "      <td>215</td>\n",
       "    </tr>\n",
       "    <tr>\n",
       "      <th>Suresh Raina</th>\n",
       "      <td>460</td>\n",
       "      <td>191</td>\n",
       "    </tr>\n",
       "    <tr>\n",
       "      <th>Gautam Gambhir</th>\n",
       "      <td>451</td>\n",
       "      <td>56</td>\n",
       "    </tr>\n",
       "    <tr>\n",
       "      <th>Robin Uthappa</th>\n",
       "      <td>432</td>\n",
       "      <td>147</td>\n",
       "    </tr>\n",
       "    <tr>\n",
       "      <th>Ajinkya Rahane</th>\n",
       "      <td>378</td>\n",
       "      <td>71</td>\n",
       "    </tr>\n",
       "    <tr>\n",
       "      <th>Chris Gayle</th>\n",
       "      <td>375</td>\n",
       "      <td>330</td>\n",
       "    </tr>\n",
       "    <tr>\n",
       "      <th>Parthiv Patel</th>\n",
       "      <td>345</td>\n",
       "      <td>45</td>\n",
       "    </tr>\n",
       "  </tbody>\n",
       "</table>\n",
       "</div>"
      ],
      "text/plain": [
       "                  4    6\n",
       "Player                  \n",
       "Shikhar Dhawan  598  110\n",
       "David Warner    509  196\n",
       "Virat Kohli     494  192\n",
       "Rohit Sharma    466  215\n",
       "Suresh Raina    460  191\n",
       "Gautam Gambhir  451   56\n",
       "Robin Uthappa   432  147\n",
       "Ajinkya Rahane  378   71\n",
       "Chris Gayle     375  330\n",
       "Parthiv Patel   345   45"
      ]
     },
     "execution_count": 71,
     "metadata": {},
     "output_type": "execute_result"
    }
   ],
   "source": [
    "df_final.groupby(['Player'])['4','6'].sum().sort_values(by = ['4','6'],ascending = False)[:10]"
   ]
  },
  {
   "cell_type": "markdown",
   "metadata": {},
   "source": [
    "# Data Visualization"
   ]
  },
  {
   "cell_type": "markdown",
   "metadata": {},
   "source": [
    "# Univariate analysis"
   ]
  },
  {
   "cell_type": "markdown",
   "metadata": {},
   "source": [
    "\n",
    "- Numerical variable \n",
    "    - Histogram\n",
    "    - Distplot\n",
    "    - Kdeplot\n",
    "    - Boxplot\n",
    "\n"
   ]
  },
  {
   "cell_type": "markdown",
   "metadata": {},
   "source": [
    "# Data Visualization of runs using Histogram"
   ]
  },
  {
   "cell_type": "code",
   "execution_count": 72,
   "metadata": {},
   "outputs": [
    {
     "data": {
      "image/png": "[encoded data removed]",
      "text/plain": [
       "<Figure size 432x288 with 1 Axes>"
      ]
     },
     "metadata": {
      "needs_background": "light"
     },
     "output_type": "display_data"
    }
   ],
   "source": [
    "plt.hist(x=df_final['Runs'],bins=10,color='yellowgreen',edgecolor='red')\n",
    "plt.title('Runs')\n",
    "plt.show()"
   ]
  },
  {
   "cell_type": "markdown",
   "metadata": {},
   "source": [
    "# Observation: Maximum runs are more than 800 and minimum run is zero"
   ]
  },
  {
   "cell_type": "markdown",
   "metadata": {},
   "source": [
    "# Data Visualization of High score uaing Dist plot"
   ]
  },
  {
   "cell_type": "code",
   "execution_count": 73,
   "metadata": {},
   "outputs": [
    {
     "data": {
      "image/png": "[encoded data removed]",
      "text/plain": [
       "<Figure size 432x288 with 1 Axes>"
      ]
     },
     "metadata": {
      "needs_background": "light"
     },
     "output_type": "display_data"
    }
   ],
   "source": [
    "sns.distplot(df_final['HS'],bins=10,color='red')\n",
    "plt.show()"
   ]
  },
  {
   "cell_type": "markdown",
   "metadata": {},
   "source": [
    "# Observation:Highest score is nearly 200 and lowest score is 0"
   ]
  },
  {
   "cell_type": "markdown",
   "metadata": {},
   "source": [
    "# Data Visualization of Average using Kde plot"
   ]
  },
  {
   "cell_type": "code",
   "execution_count": 74,
   "metadata": {},
   "outputs": [
    {
     "data": {
      "image/png": "[encoded data removed]",
      "text/plain": [
       "<Figure size 432x288 with 1 Axes>"
      ]
     },
     "metadata": {
      "needs_background": "light"
     },
     "output_type": "display_data"
    }
   ],
   "source": [
    "sns.kdeplot(df_final['Average'], shade = True , color = \"Blue\")\n",
    "plt.show()"
   ]
  },
  {
   "cell_type": "markdown",
   "metadata": {},
   "source": [
    "# Observation:Minimum average is 0 and maximum average is more than 150"
   ]
  },
  {
   "cell_type": "markdown",
   "metadata": {},
   "source": [
    "# Data Visualization of Strike rate using Boxplot"
   ]
  },
  {
   "cell_type": "code",
   "execution_count": 75,
   "metadata": {},
   "outputs": [
    {
     "data": {
      "image/png": "[encoded data removed]",
      "text/plain": [
       "<Figure size 432x288 with 1 Axes>"
      ]
     },
     "metadata": {
      "needs_background": "light"
     },
     "output_type": "display_data"
    }
   ],
   "source": [
    "sns.boxplot(df_final['SR'])\n",
    "plt.show()"
   ]
  },
  {
   "cell_type": "markdown",
   "metadata": {},
   "source": [
    "# Observation:Minimum strike rate is 0,maximum strike rate is 400 & mean strike rate is between 100 & 150"
   ]
  },
  {
   "cell_type": "markdown",
   "metadata": {},
   "source": [
    "# - Categorical variables\n",
    "    - Pieplot\n",
    "    - Countplot"
   ]
  },
  {
   "cell_type": "markdown",
   "metadata": {},
   "source": [
    "# Data Visualization of Player who has scored the highest score using pie chart"
   ]
  },
  {
   "cell_type": "code",
   "execution_count": 76,
   "metadata": {},
   "outputs": [
    {
     "data": {
      "text/plain": [
       "Player\n",
       "Chris Gayle       1102\n",
       "David Warner      1012\n",
       "Rohit Sharma       995\n",
       "Shikhar Dhawan     992\n",
       "Virat Kohli        983\n",
       "Name: HS, dtype: int64"
      ]
     },
     "execution_count": 76,
     "metadata": {},
     "output_type": "execute_result"
    }
   ],
   "source": [
    "x=df_final.groupby('Player')['HS'].sum().sort_values(ascending = False)[:5]\n",
    "x"
   ]
  },
  {
   "cell_type": "code",
   "execution_count": 77,
   "metadata": {},
   "outputs": [
    {
     "data": {
      "image/png": "[encoded data removed]",
      "text/plain": [
       "<Figure size 432x288 with 1 Axes>"
      ]
     },
     "metadata": {},
     "output_type": "display_data"
    }
   ],
   "source": [
    "x=df_final.groupby('Player')['HS'].sum().sort_values(ascending = False)[:5]\n",
    "C = ['c','y','r','g','b']\n",
    "l=['Chris Gayle','David Warner','Rohit Sharma','Shikhar Dhawan','Virat Kohli']\n",
    "e= [0.1, 0.0, 0.0, 0.0, 0.0]\n",
    "plt.pie(x,colors=C,labels=l,startangle=60,explode=e,autopct='%.2f%%')\n",
    "plt.show()"
   ]
  },
  {
   "cell_type": "markdown",
   "metadata": {},
   "source": [
    "# Observation:Top five players who has scored maximum runs are Chris Gayle,David Warner,Rohit Sharma,Shikhar Dhawan,Virat Kohli"
   ]
  },
  {
   "cell_type": "markdown",
   "metadata": {},
   "source": [
    "# Data Visualization of 50s using Count plot\n"
   ]
  },
  {
   "cell_type": "code",
   "execution_count": 78,
   "metadata": {},
   "outputs": [
    {
     "data": {
      "image/png": "[encoded data removed]",
      "text/plain": [
       "<Figure size 432x288 with 1 Axes>"
      ]
     },
     "metadata": {
      "needs_background": "light"
     },
     "output_type": "display_data"
    }
   ],
   "source": [
    "sns.countplot(df_final['50'])\n",
    "plt.show()"
   ]
  },
  {
   "cell_type": "code",
   "execution_count": 79,
   "metadata": {},
   "outputs": [
    {
     "data": {
      "text/plain": [
       "count    1677.000000\n",
       "mean        0.714967\n",
       "std         1.290630\n",
       "min         0.000000\n",
       "25%         0.000000\n",
       "50%         0.000000\n",
       "75%         1.000000\n",
       "max         9.000000\n",
       "Name: 50, dtype: float64"
      ]
     },
     "execution_count": 79,
     "metadata": {},
     "output_type": "execute_result"
    }
   ],
   "source": [
    "df_final['50'].describe()"
   ]
  },
  {
   "cell_type": "markdown",
   "metadata": {},
   "source": [
    "# Observation:Players who have scored zero 50s are more than 1000 and maximum 50s are 9"
   ]
  },
  {
   "cell_type": "markdown",
   "metadata": {},
   "source": [
    "# Bivariate Analysis\n",
    "- Numerical Variable and Numerical variables\n",
    "    - Scatterplot\n",
    "    - Regplot\n",
    "    - Relplot\n",
    "    - Jointplot"
   ]
  },
  {
   "cell_type": "markdown",
   "metadata": {},
   "source": [
    "# data visualization of players with their runs and average using scatterplot"
   ]
  },
  {
   "cell_type": "code",
   "execution_count": 80,
   "metadata": {},
   "outputs": [
    {
     "data": {
      "image/png": "[encoded data removed]",
      "text/plain": [
       "<Figure size 432x288 with 1 Axes>"
      ]
     },
     "metadata": {
      "needs_background": "light"
     },
     "output_type": "display_data"
    }
   ],
   "source": [
    "sns.scatterplot(data=df_final,x='Runs',y='Average')\n",
    "plt.show()"
   ]
  },
  {
   "cell_type": "markdown",
   "metadata": {},
   "source": [
    "# Observation:When runs are increasing, average is also increasing."
   ]
  },
  {
   "cell_type": "markdown",
   "metadata": {},
   "source": [
    "# data visualization of players with their runs and strike rate using regression plot"
   ]
  },
  {
   "cell_type": "code",
   "execution_count": 81,
   "metadata": {},
   "outputs": [
    {
     "data": {
      "image/png": "[encoded data removed]",
      "text/plain": [
       "<Figure size 432x288 with 1 Axes>"
      ]
     },
     "metadata": {
      "needs_background": "light"
     },
     "output_type": "display_data"
    }
   ],
   "source": [
    "sns.regplot(data=df_final,x='Runs',y='SR')\n",
    "plt.show()"
   ]
  },
  {
   "cell_type": "markdown",
   "metadata": {},
   "source": [
    "# Observation:When runs are increasing,strike rate is also increasing."
   ]
  },
  {
   "cell_type": "markdown",
   "metadata": {},
   "source": [
    "# Data visualization of players with their high score and not out using relation plot"
   ]
  },
  {
   "cell_type": "code",
   "execution_count": 82,
   "metadata": {},
   "outputs": [
    {
     "data": {
      "text/plain": [
       "No\n",
       "0     15922\n",
       "1     16866\n",
       "2     13089\n",
       "3      7767\n",
       "4      4558\n",
       "5      2989\n",
       "6      1112\n",
       "7       495\n",
       "8       276\n",
       "9        97\n",
       "10       57\n",
       "Name: HS, dtype: int64"
      ]
     },
     "execution_count": 82,
     "metadata": {},
     "output_type": "execute_result"
    }
   ],
   "source": [
    "df_final.groupby('No')['HS'].sum()"
   ]
  },
  {
   "cell_type": "code",
   "execution_count": 83,
   "metadata": {},
   "outputs": [
    {
     "data": {
      "image/png": "[encoded data removed]",
      "text/plain": [
       "<Figure size 360x360 with 1 Axes>"
      ]
     },
     "metadata": {
      "needs_background": "light"
     },
     "output_type": "display_data"
    }
   ],
   "source": [
    "sns.relplot(data=df_final,x='HS',y='No')\n",
    "plt.show()"
   ]
  },
  {
   "cell_type": "markdown",
   "metadata": {},
   "source": [
    "# Observation:Players who have scored their highest score and remain not out is very less"
   ]
  },
  {
   "cell_type": "markdown",
   "metadata": {},
   "source": [
    "# Data Visualization of players with their 100s and 4s using join plot using jointplot"
   ]
  },
  {
   "cell_type": "code",
   "execution_count": 84,
   "metadata": {},
   "outputs": [
    {
     "data": {
      "text/plain": [
       "100\n",
       "0    19122\n",
       "1     2184\n",
       "2      164\n",
       "4       83\n",
       "Name: 4, dtype: int64"
      ]
     },
     "execution_count": 84,
     "metadata": {},
     "output_type": "execute_result"
    }
   ],
   "source": [
    "df_final.groupby('100')['4'].sum()"
   ]
  },
  {
   "cell_type": "code",
   "execution_count": 85,
   "metadata": {},
   "outputs": [
    {
     "data": {
      "image/png": "[encoded data removed]",
      "text/plain": [
       "<Figure size 432x432 with 3 Axes>"
      ]
     },
     "metadata": {
      "needs_background": "light"
     },
     "output_type": "display_data"
    }
   ],
   "source": [
    "sns.jointplot(data=df_final,x='100',y='4')\n",
    "plt.show()"
   ]
  },
  {
   "cell_type": "markdown",
   "metadata": {},
   "source": [
    "# Observation:Only one player has scored 4 centuries & that player has scored more than 80 fours"
   ]
  },
  {
   "cell_type": "markdown",
   "metadata": {},
   "source": [
    " Numerical and Categorical Variable\n",
    "    - Barplot\n",
    "    - Boxplot\n",
    "    - Violinplot\n",
    "    - Lineplot"
   ]
  },
  {
   "cell_type": "markdown",
   "metadata": {},
   "source": [
    "# Data visualization of players with their 100s using barplot"
   ]
  },
  {
   "cell_type": "code",
   "execution_count": 86,
   "metadata": {},
   "outputs": [
    {
     "data": {
      "text/plain": [
       "<matplotlib.axes._subplots.AxesSubplot at 0x22588215548>"
      ]
     },
     "execution_count": 86,
     "metadata": {},
     "output_type": "execute_result"
    },
    {
     "data": {
      "image/png": "[encoded data removed]",
      "text/plain": [
       "<Figure size 432x288 with 1 Axes>"
      ]
     },
     "metadata": {
      "needs_background": "light"
     },
     "output_type": "display_data"
    }
   ],
   "source": [
    "df_final.groupby('Player')['100'].sum().sort_values(ascending = False)[:10].plot(kind='bar')"
   ]
  },
  {
   "cell_type": "markdown",
   "metadata": {},
   "source": [
    "# Observation:Virat Kohli and Chris Gayle has scored the highest 5 times centuries"
   ]
  },
  {
   "cell_type": "markdown",
   "metadata": {},
   "source": [
    "# Data visualization of players with their average when they were not out using box plot"
   ]
  },
  {
   "cell_type": "code",
   "execution_count": 87,
   "metadata": {},
   "outputs": [
    {
     "data": {
      "text/plain": [
       "<matplotlib.axes._subplots.AxesSubplot at 0x22587c3b188>"
      ]
     },
     "execution_count": 87,
     "metadata": {},
     "output_type": "execute_result"
    },
    {
     "data": {
      "image/png": "[encoded data removed]",
      "text/plain": [
       "<Figure size 432x288 with 1 Axes>"
      ]
     },
     "metadata": {
      "needs_background": "light"
     },
     "output_type": "display_data"
    }
   ],
   "source": [
    "df_final.groupby(['No'])['Average'].sum().sort_values(ascending = False)[:10].plot(kind = 'box')"
   ]
  },
  {
   "cell_type": "markdown",
   "metadata": {},
   "source": [
    "# Data visualization of players with their strike rate when they scored 100 using violine plot"
   ]
  },
  {
   "cell_type": "code",
   "execution_count": 88,
   "metadata": {},
   "outputs": [
    {
     "data": {
      "image/png": "[encoded data removed]",
      "text/plain": [
       "<Figure size 432x288 with 1 Axes>"
      ]
     },
     "metadata": {
      "needs_background": "light"
     },
     "output_type": "display_data"
    }
   ],
   "source": [
    "sns.violinplot(data=df_final,x='100',y='SR')\n",
    "plt.xlabel('100')\n",
    "plt.ylabel('Strike rate')\n",
    "plt.show()"
   ]
  },
  {
   "cell_type": "markdown",
   "metadata": {},
   "source": [
    "# Data visualization of players with their 50s using line plot"
   ]
  },
  {
   "cell_type": "code",
   "execution_count": 89,
   "metadata": {},
   "outputs": [
    {
     "data": {
      "image/png": "[encoded data removed]",
      "text/plain": [
       "<Figure size 720x360 with 1 Axes>"
      ]
     },
     "metadata": {
      "needs_background": "light"
     },
     "output_type": "display_data"
    }
   ],
   "source": [
    "df_final.groupby(['Player'])['50'].sum().sort_values(ascending = False)[:5].plot(kind = 'line',figsize=(10, 5))\n",
    "plt.xlabel('Player')\n",
    "plt.ylabel('50')\n",
    "plt.show()"
   ]
  },
  {
   "cell_type": "markdown",
   "metadata": {},
   "source": [
    "# Observation:David warner has scored the highest 50's between season 2008 to 2021"
   ]
  },
  {
   "cell_type": "markdown",
   "metadata": {},
   "source": [
    "# Data visualization of innings,Runs and Hightest score using bar plot"
   ]
  },
  {
   "cell_type": "code",
   "execution_count": 90,
   "metadata": {},
   "outputs": [
    {
     "data": {
      "text/plain": [
       "Index(['Unnamed: 0', 'Player', 'matches', 'innings', 'No', 'Runs', 'HS',\n",
       "       'Average', 'BF', 'SR', '100', '50', '4', '6', 'season'],\n",
       "      dtype='object')"
      ]
     },
     "execution_count": 90,
     "metadata": {},
     "output_type": "execute_result"
    }
   ],
   "source": [
    "df_final.columns"
   ]
  },
  {
   "cell_type": "code",
   "execution_count": 91,
   "metadata": {},
   "outputs": [
    {
     "data": {
      "text/plain": [
       "<matplotlib.axes._subplots.AxesSubplot at 0x225881c6e08>"
      ]
     },
     "execution_count": 91,
     "metadata": {},
     "output_type": "execute_result"
    },
    {
     "data": {
      "image/png": "[encoded data removed]",
      "text/plain": [
       "<Figure size 432x288 with 1 Axes>"
      ]
     },
     "metadata": {
      "needs_background": "light"
     },
     "output_type": "display_data"
    }
   ],
   "source": [
    "sns.barplot(df_final['season'], df_final['Runs'],hue = df_final['100'])"
   ]
  },
  {
   "cell_type": "markdown",
   "metadata": {},
   "source": [
    "# Observation:In season 2016 ,player has scored the highest 4 times 100 with nearly 1000 runs .\n"
   ]
  },
  {
   "cell_type": "code",
   "execution_count": 92,
   "metadata": {},
   "outputs": [
    {
     "data": {
      "image/png": "[encoded data removed]",
      "text/plain": [
       "<Figure size 601.375x540 with 12 Axes>"
      ]
     },
     "metadata": {
      "needs_background": "light"
     },
     "output_type": "display_data"
    }
   ],
   "source": [
    "sns.pairplot(data=df_final[['innings','Runs','HS','season']],hue='season')\n",
    "plt.show()"
   ]
  },
  {
   "cell_type": "code",
   "execution_count": null,
   "metadata": {},
   "outputs": [],
   "source": []
  }
 ],
 "metadata": {
  "kernelspec": {
   "display_name": "Python 3",
   "language": "python",
   "name": "python3"
  },
  "language_info": {
   "codemirror_mode": {
    "name": "ipython",
    "version": 3
   },
   "file_extension": ".py",
   "mimetype": "text/x-python",
   "name": "python",
   "nbconvert_exporter": "python",
   "pygments_lexer": "ipython3",
   "version": "3.7.6"
  }
 },
 "nbformat": 4,
 "nbformat_minor": 5
}
